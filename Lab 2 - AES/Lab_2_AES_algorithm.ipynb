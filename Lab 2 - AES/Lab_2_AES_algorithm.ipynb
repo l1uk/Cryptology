{
  "cells": [
    {
      "cell_type": "markdown",
      "id": "7d02532f",
      "metadata": {
        "id": "7d02532f"
      },
      "source": [
        "# Lab 2: AES algorithm"
      ]
    },
    {
      "cell_type": "markdown",
      "id": "468cfee5",
      "metadata": {
        "id": "468cfee5"
      },
      "source": [
        "The  Advanced  Encryption  Standard  (AES)  specifies  a  FIPS-approved  cryptographic  algorithm  that  can  be  used  to  protect  electronic  data.    The  AES  algorithm  is  a  symmetric   block   cipher   that   can   encrypt   (encipher)   and   decrypt   (decipher)   information.   Encryption  converts  data  to  an  unintelligible  form  called  ciphertext;    decrypting  the  ciphertext converts the data back into its original form, called plaintext.\n",
        "All the specification is available at: https://nvlpubs.nist.gov/nistpubs/fips/nist.fips.197.pdf"
      ]
    },
    {
      "cell_type": "markdown",
      "id": "52435ffb",
      "metadata": {
        "id": "52435ffb"
      },
      "source": [
        "# Part 1: Encryption"
      ]
    },
    {
      "cell_type": "markdown",
      "id": "5bae334e",
      "metadata": {
        "id": "5bae334e"
      },
      "source": [
        "## 1.1. Round-keys generation\n",
        "\n",
        "The code below generates all keys for encryption and decryption."
      ]
    },
    {
      "cell_type": "code",
      "execution_count": 2,
      "id": "443e3cb7",
      "metadata": {
        "id": "443e3cb7"
      },
      "outputs": [],
      "source": [
        "\"\"\"\n",
        "    Copyright (C) 2012 Bo Zhu http://about.bozhu.me\n",
        "\n",
        "    Permission is hereby granted, free of charge, to any person obtaining a\n",
        "    copy of this software and associated documentation files (the \"Software\"),\n",
        "    to deal in the Software without restriction, including without limitation\n",
        "    the rights to use, copy, modify, merge, publish, distribute, sublicense,\n",
        "    and/or sell copies of the Software, and to permit persons to whom the\n",
        "    Software is furnished to do so, subject to the following conditions:\n",
        "\n",
        "    The above copyright notice and this permission notice shall be included in\n",
        "    all copies or substantial portions of the Software.\n",
        "\n",
        "    THE SOFTWARE IS PROVIDED \"AS IS\", WITHOUT WARRANTY OF ANY KIND, EXPRESS OR\n",
        "    IMPLIED, INCLUDING BUT NOT LIMITED TO THE WARRANTIES OF MERCHANTABILITY,\n",
        "    FITNESS FOR A PARTICULAR PURPOSE AND NONINFRINGEMENT. IN NO EVENT SHALL\n",
        "    THE AUTHORS OR COPYRIGHT HOLDERS BE LIABLE FOR ANY CLAIM, DAMAGES OR OTHER\n",
        "    LIABILITY, WHETHER IN AN ACTION OF CONTRACT, TORT OR OTHERWISE, ARISING\n",
        "    FROM, OUT OF OR IN CONNECTION WITH THE SOFTWARE OR THE USE OR OTHER\n",
        "    DEALINGS IN THE SOFTWARE.\n",
        "\"\"\"\n",
        "\n",
        "\"\"\"\n",
        "    Modified by Guy Gogniat 2021\n",
        "\"\"\"\n",
        "\n",
        "Sbox = (\n",
        "    0x63, 0x7C, 0x77, 0x7B, 0xF2, 0x6B, 0x6F, 0xC5, 0x30, 0x01, 0x67, 0x2B, 0xFE, 0xD7, 0xAB, 0x76,\n",
        "    0xCA, 0x82, 0xC9, 0x7D, 0xFA, 0x59, 0x47, 0xF0, 0xAD, 0xD4, 0xA2, 0xAF, 0x9C, 0xA4, 0x72, 0xC0,\n",
        "    0xB7, 0xFD, 0x93, 0x26, 0x36, 0x3F, 0xF7, 0xCC, 0x34, 0xA5, 0xE5, 0xF1, 0x71, 0xD8, 0x31, 0x15,\n",
        "    0x04, 0xC7, 0x23, 0xC3, 0x18, 0x96, 0x05, 0x9A, 0x07, 0x12, 0x80, 0xE2, 0xEB, 0x27, 0xB2, 0x75,\n",
        "    0x09, 0x83, 0x2C, 0x1A, 0x1B, 0x6E, 0x5A, 0xA0, 0x52, 0x3B, 0xD6, 0xB3, 0x29, 0xE3, 0x2F, 0x84,\n",
        "    0x53, 0xD1, 0x00, 0xED, 0x20, 0xFC, 0xB1, 0x5B, 0x6A, 0xCB, 0xBE, 0x39, 0x4A, 0x4C, 0x58, 0xCF,\n",
        "    0xD0, 0xEF, 0xAA, 0xFB, 0x43, 0x4D, 0x33, 0x85, 0x45, 0xF9, 0x02, 0x7F, 0x50, 0x3C, 0x9F, 0xA8,\n",
        "    0x51, 0xA3, 0x40, 0x8F, 0x92, 0x9D, 0x38, 0xF5, 0xBC, 0xB6, 0xDA, 0x21, 0x10, 0xFF, 0xF3, 0xD2,\n",
        "    0xCD, 0x0C, 0x13, 0xEC, 0x5F, 0x97, 0x44, 0x17, 0xC4, 0xA7, 0x7E, 0x3D, 0x64, 0x5D, 0x19, 0x73,\n",
        "    0x60, 0x81, 0x4F, 0xDC, 0x22, 0x2A, 0x90, 0x88, 0x46, 0xEE, 0xB8, 0x14, 0xDE, 0x5E, 0x0B, 0xDB,\n",
        "    0xE0, 0x32, 0x3A, 0x0A, 0x49, 0x06, 0x24, 0x5C, 0xC2, 0xD3, 0xAC, 0x62, 0x91, 0x95, 0xE4, 0x79,\n",
        "    0xE7, 0xC8, 0x37, 0x6D, 0x8D, 0xD5, 0x4E, 0xA9, 0x6C, 0x56, 0xF4, 0xEA, 0x65, 0x7A, 0xAE, 0x08,\n",
        "    0xBA, 0x78, 0x25, 0x2E, 0x1C, 0xA6, 0xB4, 0xC6, 0xE8, 0xDD, 0x74, 0x1F, 0x4B, 0xBD, 0x8B, 0x8A,\n",
        "    0x70, 0x3E, 0xB5, 0x66, 0x48, 0x03, 0xF6, 0x0E, 0x61, 0x35, 0x57, 0xB9, 0x86, 0xC1, 0x1D, 0x9E,\n",
        "    0xE1, 0xF8, 0x98, 0x11, 0x69, 0xD9, 0x8E, 0x94, 0x9B, 0x1E, 0x87, 0xE9, 0xCE, 0x55, 0x28, 0xDF,\n",
        "    0x8C, 0xA1, 0x89, 0x0D, 0xBF, 0xE6, 0x42, 0x68, 0x41, 0x99, 0x2D, 0x0F, 0xB0, 0x54, 0xBB, 0x16,\n",
        ")\n",
        "\n",
        "Rcon = (\n",
        "    0x00, 0x01, 0x02, 0x04, 0x08, 0x10, 0x20, 0x40,\n",
        "    0x80, 0x1B, 0x36, 0x6C, 0xD8, 0xAB, 0x4D, 0x9A,\n",
        "    0x2F, 0x5E, 0xBC, 0x63, 0xC6, 0x97, 0x35, 0x6A,\n",
        "    0xD4, 0xB3, 0x7D, 0xFA, 0xEF, 0xC5, 0x91, 0x39,\n",
        ")\n",
        "\n",
        "\n",
        "def text2matrix(text):\n",
        "    matrix = []\n",
        "    for i in range(16):\n",
        "        byte = (text >> (8 * (15 - i))) & 0xFF\n",
        "        if i % 4 == 0:\n",
        "            matrix.append([byte])\n",
        "        else:\n",
        "            matrix[int(i / 4)].append(byte)\n",
        "    return matrix\n",
        "\n",
        "def change_key(master_key):\n",
        "    round_keys = text2matrix(master_key)\n",
        "    for i in range(4, 4 * 11):\n",
        "        round_keys.append([])\n",
        "        if i % 4 == 0:\n",
        "            byte = round_keys[i - 4][0]        \\\n",
        "                     ^ Sbox[round_keys[i - 1][1]]  \\\n",
        "                     ^ Rcon[int(i / 4)]\n",
        "            round_keys[i].append(byte)\n",
        "\n",
        "            for j in range(1, 4):\n",
        "                    byte = round_keys[i - 4][j]    \\\n",
        "                         ^ Sbox[round_keys[i - 1][(j + 1) % 4]]\n",
        "                    round_keys[i].append(byte)\n",
        "        else:\n",
        "            for j in range(4):\n",
        "                    byte = round_keys[i - 4][j]    \\\n",
        "                         ^ round_keys[i - 1][j]\n",
        "                    round_keys[i].append(byte)\n",
        "\n",
        "    return(round_keys)"
      ]
    },
    {
      "cell_type": "markdown",
      "id": "8d442e21",
      "metadata": {
        "id": "8d442e21"
      },
      "source": [
        "Understand the proposed code and compare it to standard AES key generation.\n",
        "\n",
        "### Question 1: Explain the AES key generation algorithm."
      ]
    },
    {
      "cell_type": "markdown",
      "source": [
        "The proposed code handles the key scheduling of AES by first converting the input key in a 4x4 matrix of bytes via the text2matrix() method, that using a custom expression extracts the ith byte from the input.\n",
        "\n",
        "After converting the key, change_key() method then proceeds to generate all the round keys according to the AES specification, I.E. applying rotword, subword and Rcon for every 4th key word and simply performing a xor operation with the previous entry for all other entries."
      ],
      "metadata": {
        "id": "MniB8EpiCbCM"
      },
      "id": "MniB8EpiCbCM"
    },
    {
      "cell_type": "markdown",
      "id": "3ee509b6",
      "metadata": {
        "id": "3ee509b6"
      },
      "source": [
        "Run the cell below.\n",
        "\n",
        "### Question 2: How many subkeys are generated? is it compliant with the AES algorithm?"
      ]
    },
    {
      "cell_type": "code",
      "execution_count": null,
      "id": "a604b2d8",
      "metadata": {
        "colab": {
          "base_uri": "https://localhost:8080/"
        },
        "id": "a604b2d8",
        "outputId": "58506594-4d2b-4deb-ceae-d392bdc363e1"
      },
      "outputs": [
        {
          "output_type": "stream",
          "name": "stdout",
          "text": [
            "\n",
            " masterkey : \n",
            "0x2b 0x28 0xab 0x9\n",
            "0x7e 0xae 0xf7 0xcf\n",
            "0x15 0xd2 0x15 0x4f\n",
            "0x16 0xa6 0x88 0x3c\n",
            "\n",
            " subkeys :  0\n",
            "0x2b 0x28 0xab 0x9\n",
            "0x7e 0xae 0xf7 0xcf\n",
            "0x15 0xd2 0x15 0x4f\n",
            "0x16 0xa6 0x88 0x3c\n",
            "\n",
            " subkeys :  1\n",
            "0xa0 0x88 0x23 0x2a\n",
            "0xfa 0x54 0xa3 0x6c\n",
            "0xfe 0x2c 0x39 0x76\n",
            "0x17 0xb1 0x39 0x5\n",
            "\n",
            " subkeys :  2\n",
            "0xf2 0x7a 0x59 0x73\n",
            "0xc2 0x96 0x35 0x59\n",
            "0x95 0xb9 0x80 0xf6\n",
            "0xf2 0x43 0x7a 0x7f\n",
            "\n",
            " subkeys :  3\n",
            "0x3d 0x47 0x1e 0x6d\n",
            "0x80 0x16 0x23 0x7a\n",
            "0x47 0xfe 0x7e 0x88\n",
            "0x7d 0x3e 0x44 0x3b\n",
            "\n",
            " subkeys :  4\n",
            "0xef 0xa8 0xb6 0xdb\n",
            "0x44 0x52 0x71 0xb\n",
            "0xa5 0x5b 0x25 0xad\n",
            "0x41 0x7f 0x3b 0x0\n",
            "\n",
            " subkeys :  5\n",
            "0xd4 0x7c 0xca 0x11\n",
            "0xd1 0x83 0xf2 0xf9\n",
            "0xc6 0x9d 0xb8 0x15\n",
            "0xf8 0x87 0xbc 0xbc\n",
            "\n",
            " subkeys :  6\n",
            "0x6d 0x11 0xdb 0xca\n",
            "0x88 0xb 0xf9 0x0\n",
            "0xa3 0x3e 0x86 0x93\n",
            "0x7a 0xfd 0x41 0xfd\n",
            "\n",
            " subkeys :  7\n",
            "0x4e 0x5f 0x84 0x4e\n",
            "0x54 0x5f 0xa6 0xa6\n",
            "0xf7 0xc9 0x4f 0xdc\n",
            "0xe 0xf3 0xb2 0x4f\n",
            "\n",
            " subkeys :  8\n",
            "0xea 0xb5 0x31 0x7f\n",
            "0xd2 0x8d 0x2b 0x8d\n",
            "0x73 0xba 0xf5 0x29\n",
            "0x21 0xd2 0x60 0x2f\n",
            "\n",
            " subkeys :  9\n",
            "0xac 0x19 0x28 0x57\n",
            "0x77 0xfa 0xd1 0x5c\n",
            "0x66 0xdc 0x29 0x0\n",
            "0xf3 0x21 0x41 0x6e\n",
            "\n",
            " subkeys :  10\n",
            "0xd0 0xc9 0xe1 0xb6\n",
            "0x14 0xee 0x3f 0x63\n",
            "0xf9 0x25 0xc 0xc\n",
            "0xa8 0x89 0xc8 0xa6\n"
          ]
        }
      ],
      "source": [
        "master_key = 0x2b7e151628aed2a6abf7158809cf4f3c\n",
        "\n",
        "round_keys=change_key(master_key)\n",
        "\n",
        "master_key0 = text2matrix(master_key)\n",
        "print(\"\\n masterkey : \")\n",
        "for j in range(4):\n",
        "    print(hex(master_key0[0][j]), hex(master_key0[1][j]), hex(master_key0[2][j]), hex(master_key0[3][j]))\n",
        "\n",
        "\n",
        "for i in range(0, 4*11, 4):\n",
        "    if i % 4 == 0:\n",
        "        print(\"\\n subkeys : \", int(i/4))\n",
        "    for j in range(4):\n",
        "        print(hex(round_keys[i][j]), hex(round_keys[i+1][j]), hex(round_keys[i+2][j]), hex(round_keys[i+3][j]))"
      ]
    },
    {
      "cell_type": "markdown",
      "source": [
        "Yes, 11 subkeys is compliant with a 128 bit master key according to the AES standard."
      ],
      "metadata": {
        "id": "fzg48womo2U3"
      },
      "id": "fzg48womo2U3"
    },
    {
      "cell_type": "markdown",
      "id": "238880b0",
      "metadata": {
        "id": "238880b0"
      },
      "source": [
        "## 1.2. Encryption"
      ]
    },
    {
      "cell_type": "markdown",
      "id": "bcaa3a8f",
      "metadata": {
        "id": "bcaa3a8f"
      },
      "source": [
        "### Question 3: Complete the three missing functions. Explain your code."
      ]
    },
    {
      "cell_type": "code",
      "execution_count": 3,
      "id": "f3f6d94a",
      "metadata": {
        "id": "f3f6d94a"
      },
      "outputs": [],
      "source": [
        "\"\"\"\n",
        "    Copyright (C) 2012 Bo Zhu http://about.bozhu.me\n",
        "\n",
        "    Permission is hereby granted, free of charge, to any person obtaining a\n",
        "    copy of this software and associated documentation files (the \"Software\"),\n",
        "    to deal in the Software without restriction, including without limitation\n",
        "    the rights to use, copy, modify, merge, publish, distribute, sublicense,\n",
        "    and/or sell copies of the Software, and to permit persons to whom the\n",
        "    Software is furnished to do so, subject to the following conditions:\n",
        "\n",
        "    The above copyright notice and this permission notice shall be included in\n",
        "    all copies or substantial portions of the Software.\n",
        "\n",
        "    THE SOFTWARE IS PROVIDED \"AS IS\", WITHOUT WARRANTY OF ANY KIND, EXPRESS OR\n",
        "    IMPLIED, INCLUDING BUT NOT LIMITED TO THE WARRANTIES OF MERCHANTABILITY,\n",
        "    FITNESS FOR A PARTICULAR PURPOSE AND NONINFRINGEMENT. IN NO EVENT SHALL\n",
        "    THE AUTHORS OR COPYRIGHT HOLDERS BE LIABLE FOR ANY CLAIM, DAMAGES OR OTHER\n",
        "    LIABILITY, WHETHER IN AN ACTION OF CONTRACT, TORT OR OTHERWISE, ARISING\n",
        "    FROM, OUT OF OR IN CONNECTION WITH THE SOFTWARE OR THE USE OR OTHER\n",
        "    DEALINGS IN THE SOFTWARE.\n",
        "\"\"\"\n",
        "\n",
        "\"\"\"\n",
        "    Modified by Guy Gogniat 2021\n",
        "\"\"\"\n",
        "\n",
        "# learnt from http://cs.ucsb.edu/~koc/cs178/projects/JT/aes.c\n",
        "xtime = lambda a: (((a << 1) ^ 0x1B) & 0xFF) if (a & 0x80) else (a << 1)\n",
        "\n",
        "\n",
        "def matrix2text(matrix):\n",
        "    text = 0\n",
        "    for i in range(4):\n",
        "        for j in range(4):\n",
        "            text |= (matrix[i][j] << (120 - 8 * (4 * i + j)))\n",
        "    return text\n",
        "\n",
        "def encrypt(plaintext):\n",
        "        plain_state = text2matrix(plaintext)\n",
        "\n",
        "        add_round_key(plain_state, round_keys[:4])\n",
        "\n",
        "        for i in range(1, 10):\n",
        "            round_encrypt(plain_state, round_keys[4 * i : 4 * (i + 1)])\n",
        "\n",
        "        sub_bytes(plain_state)\n",
        "        shift_rows(plain_state)\n",
        "        add_round_key(plain_state, round_keys[40:])\n",
        "\n",
        "        return matrix2text(plain_state)\n",
        "\n",
        "\n",
        "def add_round_key(s, k):\n",
        "        for i in range(4):\n",
        "            for j in range(4):\n",
        "                s[i][j] ^= k[i][j]\n",
        "\n",
        "\n",
        "def round_encrypt(state_matrix, key_matrix):\n",
        "       sub_bytes(state_matrix)\n",
        "       shift_rows(state_matrix)\n",
        "       mix_columns(state_matrix)\n",
        "       add_round_key(state_matrix, key_matrix)\n",
        "       pass\n",
        "\n",
        "def sub_bytes(s):\n",
        "  \"build the sub_bytes transformation\"\n",
        "  for i in range(4):\n",
        "      for j in range(4):\n",
        "          s[i][j] = Sbox[s[i][j]]\n",
        "  pass\n",
        "\n",
        "def shift_rows(s):\n",
        "  \"build the shift_rows transformation\"\n",
        "  s[0][1], s[1][1], s[2][1], s[3][1] = s[1][1], s[2][1], s[3][1], s[0][1]\n",
        "  s[0][2], s[1][2], s[2][2], s[3][2] = s[2][2], s[3][2], s[0][2], s[1][2]\n",
        "  s[0][3], s[1][3], s[2][3], s[3][3] = s[3][3], s[0][3], s[1][3], s[2][3]\n",
        "\n",
        "def mix_single_column(a):\n",
        "        # please see Sec 4.1.2 in The Design of Rijndael\n",
        "        t = a[0] ^ a[1] ^ a[2] ^ a[3]\n",
        "        u = a[0]\n",
        "        a[0] ^= t ^ xtime(a[0] ^ a[1])\n",
        "        a[1] ^= t ^ xtime(a[1] ^ a[2])\n",
        "        a[2] ^= t ^ xtime(a[2] ^ a[3])\n",
        "        a[3] ^= t ^ xtime(a[3] ^ u)\n",
        "\n",
        "\n",
        "def mix_columns(s):\n",
        "        for i in range(4):\n",
        "            mix_single_column(s[i])"
      ]
    },
    {
      "cell_type": "markdown",
      "source": [
        "The structure of the encrypt() function was completed by adding the rigth function calls for each round and the round function themselves have been completed.\n",
        "\n",
        "The sub_bytes() function has been instructed to look for the desired susbstitution in the lookup table.\n",
        "The shift_rows() method has been completed with the logic to perform a circular row shift and lastly the right call format has been added to mix_columns()."
      ],
      "metadata": {
        "id": "KQo783eOErGT"
      },
      "id": "KQo783eOErGT"
    },
    {
      "cell_type": "markdown",
      "id": "26a08445",
      "metadata": {
        "id": "26a08445"
      },
      "source": [
        "Once the three missing functions are completed you should have a correct cipher. Below is a test to verify your code."
      ]
    },
    {
      "cell_type": "code",
      "execution_count": null,
      "id": "151a73ac",
      "metadata": {
        "colab": {
          "base_uri": "https://localhost:8080/"
        },
        "id": "151a73ac",
        "outputId": "edf3cca0-76be-420f-b22d-edd1d8c21c99"
      },
      "outputs": [
        {
          "output_type": "stream",
          "name": "stdout",
          "text": [
            "\n",
            " plaintext is: 0x3243f6a8885a308d313198a2e0370734\n",
            "\n",
            " ciphertext is: 0x3925841d02dc09fbdc118597196a0b32\n",
            "\n",
            " ciphering has been done correctly\n"
          ]
        }
      ],
      "source": [
        "plaintext = 0x3243f6a8885a308d313198a2e0370734\n",
        "print('\\n plaintext is:',hex(plaintext))\n",
        "\n",
        "ciphertext = encrypt(plaintext)\n",
        "print('\\n ciphertext is:',hex(ciphertext))\n",
        "\n",
        "if(ciphertext == 0x3925841d02dc09fbdc118597196a0b32):\n",
        "    print('\\n ciphering has been done correctly')\n",
        "else:\n",
        "    print('\\n ciphering has a problem')"
      ]
    },
    {
      "cell_type": "markdown",
      "id": "3a0704d5",
      "metadata": {
        "id": "3a0704d5"
      },
      "source": [
        "# Part 2: Decryption"
      ]
    },
    {
      "cell_type": "markdown",
      "id": "37480416",
      "metadata": {
        "id": "37480416"
      },
      "source": [
        "### Question 4: Based on what you have done for encryption complete the three missing functions. Explain your code."
      ]
    },
    {
      "cell_type": "code",
      "execution_count": 4,
      "id": "fe0668bd",
      "metadata": {
        "id": "fe0668bd"
      },
      "outputs": [],
      "source": [
        "\"\"\"\n",
        "    Copyright (C) 2012 Bo Zhu http://about.bozhu.me\n",
        "\n",
        "    Permission is hereby granted, free of charge, to any person obtaining a\n",
        "    copy of this software and associated documentation files (the \"Software\"),\n",
        "    to deal in the Software without restriction, including without limitation\n",
        "    the rights to use, copy, modify, merge, publish, distribute, sublicense,\n",
        "    and/or sell copies of the Software, and to permit persons to whom the\n",
        "    Software is furnished to do so, subject to the following conditions:\n",
        "\n",
        "    The above copyright notice and this permission notice shall be included in\n",
        "    all copies or substantial portions of the Software.\n",
        "\n",
        "    THE SOFTWARE IS PROVIDED \"AS IS\", WITHOUT WARRANTY OF ANY KIND, EXPRESS OR\n",
        "    IMPLIED, INCLUDING BUT NOT LIMITED TO THE WARRANTIES OF MERCHANTABILITY,\n",
        "    FITNESS FOR A PARTICULAR PURPOSE AND NONINFRINGEMENT. IN NO EVENT SHALL\n",
        "    THE AUTHORS OR COPYRIGHT HOLDERS BE LIABLE FOR ANY CLAIM, DAMAGES OR OTHER\n",
        "    LIABILITY, WHETHER IN AN ACTION OF CONTRACT, TORT OR OTHERWISE, ARISING\n",
        "    FROM, OUT OF OR IN CONNECTION WITH THE SOFTWARE OR THE USE OR OTHER\n",
        "    DEALINGS IN THE SOFTWARE.\n",
        "\"\"\"\n",
        "\n",
        "\"\"\"\n",
        "    Modified by Guy Gogniat 2021\n",
        "\"\"\"\n",
        "\n",
        "InvSbox = (\n",
        "    0x52, 0x09, 0x6A, 0xD5, 0x30, 0x36, 0xA5, 0x38, 0xBF, 0x40, 0xA3, 0x9E, 0x81, 0xF3, 0xD7, 0xFB,\n",
        "    0x7C, 0xE3, 0x39, 0x82, 0x9B, 0x2F, 0xFF, 0x87, 0x34, 0x8E, 0x43, 0x44, 0xC4, 0xDE, 0xE9, 0xCB,\n",
        "    0x54, 0x7B, 0x94, 0x32, 0xA6, 0xC2, 0x23, 0x3D, 0xEE, 0x4C, 0x95, 0x0B, 0x42, 0xFA, 0xC3, 0x4E,\n",
        "    0x08, 0x2E, 0xA1, 0x66, 0x28, 0xD9, 0x24, 0xB2, 0x76, 0x5B, 0xA2, 0x49, 0x6D, 0x8B, 0xD1, 0x25,\n",
        "    0x72, 0xF8, 0xF6, 0x64, 0x86, 0x68, 0x98, 0x16, 0xD4, 0xA4, 0x5C, 0xCC, 0x5D, 0x65, 0xB6, 0x92,\n",
        "    0x6C, 0x70, 0x48, 0x50, 0xFD, 0xED, 0xB9, 0xDA, 0x5E, 0x15, 0x46, 0x57, 0xA7, 0x8D, 0x9D, 0x84,\n",
        "    0x90, 0xD8, 0xAB, 0x00, 0x8C, 0xBC, 0xD3, 0x0A, 0xF7, 0xE4, 0x58, 0x05, 0xB8, 0xB3, 0x45, 0x06,\n",
        "    0xD0, 0x2C, 0x1E, 0x8F, 0xCA, 0x3F, 0x0F, 0x02, 0xC1, 0xAF, 0xBD, 0x03, 0x01, 0x13, 0x8A, 0x6B,\n",
        "    0x3A, 0x91, 0x11, 0x41, 0x4F, 0x67, 0xDC, 0xEA, 0x97, 0xF2, 0xCF, 0xCE, 0xF0, 0xB4, 0xE6, 0x73,\n",
        "    0x96, 0xAC, 0x74, 0x22, 0xE7, 0xAD, 0x35, 0x85, 0xE2, 0xF9, 0x37, 0xE8, 0x1C, 0x75, 0xDF, 0x6E,\n",
        "    0x47, 0xF1, 0x1A, 0x71, 0x1D, 0x29, 0xC5, 0x89, 0x6F, 0xB7, 0x62, 0x0E, 0xAA, 0x18, 0xBE, 0x1B,\n",
        "    0xFC, 0x56, 0x3E, 0x4B, 0xC6, 0xD2, 0x79, 0x20, 0x9A, 0xDB, 0xC0, 0xFE, 0x78, 0xCD, 0x5A, 0xF4,\n",
        "    0x1F, 0xDD, 0xA8, 0x33, 0x88, 0x07, 0xC7, 0x31, 0xB1, 0x12, 0x10, 0x59, 0x27, 0x80, 0xEC, 0x5F,\n",
        "    0x60, 0x51, 0x7F, 0xA9, 0x19, 0xB5, 0x4A, 0x0D, 0x2D, 0xE5, 0x7A, 0x9F, 0x93, 0xC9, 0x9C, 0xEF,\n",
        "    0xA0, 0xE0, 0x3B, 0x4D, 0xAE, 0x2A, 0xF5, 0xB0, 0xC8, 0xEB, 0xBB, 0x3C, 0x83, 0x53, 0x99, 0x61,\n",
        "    0x17, 0x2B, 0x04, 0x7E, 0xBA, 0x77, 0xD6, 0x26, 0xE1, 0x69, 0x14, 0x63, 0x55, 0x21, 0x0C, 0x7D,\n",
        ")\n",
        "\n",
        "\n",
        "def decrypt(ciphertext):\n",
        "        cipher_state = text2matrix(ciphertext)\n",
        "\n",
        "        add_round_key(cipher_state, round_keys[40:])\n",
        "        inv_shift_rows(cipher_state)\n",
        "        inv_sub_bytes(cipher_state)\n",
        "\n",
        "        for i in range(9, 0, -1):\n",
        "            round_decrypt(cipher_state, round_keys[4 * i : 4 * (i + 1)])\n",
        "\n",
        "        add_round_key(cipher_state, round_keys[:4])\n",
        "\n",
        "        return matrix2text(cipher_state)\n",
        "\n",
        "\n",
        "def round_decrypt(state_matrix, key_matrix):\n",
        "    \"call to the four round operations\"\n",
        "    add_round_key(state_matrix, key_matrix)\n",
        "    inv_mix_columns(state_matrix)\n",
        "    inv_shift_rows(state_matrix)\n",
        "    inv_sub_bytes(state_matrix)\n",
        "    pass\n",
        "\n",
        "def inv_sub_bytes(s):\n",
        "        \"build the inv_sub_bytes transformation\"\n",
        "        for i in range(4):\n",
        "            for j in range(4):\n",
        "                s[i][j] = InvSbox[s[i][j]]\n",
        "        pass\n",
        "\n",
        "def inv_shift_rows(s):\n",
        "        \"build the inv_shift_rows transformation\"\n",
        "        s[1][1], s[2][1], s[3][1], s[0][1] = s[0][1], s[1][1], s[2][1], s[3][1]\n",
        "        s[2][2], s[3][2], s[0][2], s[1][2] = s[0][2], s[1][2], s[2][2], s[3][2]\n",
        "        s[3][3], s[0][3], s[1][3], s[2][3] = s[0][3], s[1][3], s[2][3], s[3][3]\n",
        "        pass\n",
        "\n",
        "\n",
        "def inv_mix_columns(s):\n",
        "        # see Sec 4.1.3 in The Design of Rijndael\n",
        "        for i in range(4):\n",
        "            u = xtime(xtime(s[i][0] ^ s[i][2]))\n",
        "            v = xtime(xtime(s[i][1] ^ s[i][3]))\n",
        "            s[i][0] ^= u\n",
        "            s[i][1] ^= v\n",
        "            s[i][2] ^= u\n",
        "            s[i][3] ^= v\n",
        "\n",
        "        mix_columns(s)"
      ]
    },
    {
      "cell_type": "markdown",
      "source": [
        "The changes made to this code are symmetrical to the encryption one and the operation are performed in backwards order.\n",
        "The Sbox lookup has an inverse, the mix columns operation was already implemented and the shift rows can be reversed by just inverting the indexes in the assignation. Regarding the xor operation, the same method can be used.\n"
      ],
      "metadata": {
        "id": "uabsQx3nFWSc"
      },
      "id": "uabsQx3nFWSc"
    },
    {
      "cell_type": "markdown",
      "id": "433ed613",
      "metadata": {
        "id": "433ed613"
      },
      "source": [
        "Once the three missing functions are completed you should have a correct decryption. Check with the code below."
      ]
    },
    {
      "cell_type": "code",
      "execution_count": null,
      "id": "f0417d2e",
      "metadata": {
        "id": "f0417d2e",
        "colab": {
          "base_uri": "https://localhost:8080/"
        },
        "outputId": "4b0fe96b-5296-4c46-d9d3-6c9b72d44e59"
      },
      "outputs": [
        {
          "output_type": "stream",
          "name": "stdout",
          "text": [
            "plaintext was: 0x3243f6a8885a308d313198a2e0370734\n",
            "decryption returns: 0x3243f6a8885a308d313198a2e0370734\n",
            "plaintext and ciphertext are the same: True\n"
          ]
        }
      ],
      "source": [
        "decrypted = decrypt(ciphertext)\n",
        "print('plaintext was:', hex(plaintext))\n",
        "print('decryption returns:', hex(decrypted))\n",
        "print('plaintext and ciphertext are the same:',hex(plaintext)==hex(decrypted))"
      ]
    },
    {
      "cell_type": "markdown",
      "id": "4c7ce71e",
      "metadata": {
        "id": "4c7ce71e"
      },
      "source": [
        "# Part 3: Using a library"
      ]
    },
    {
      "cell_type": "markdown",
      "id": "96e67302",
      "metadata": {
        "id": "96e67302"
      },
      "source": [
        "Have a look a the crypto library from [`PyCryptodome`](https://pycryptodome.readthedocs.io/en/latest/src/introduction.html)\n",
        "\n",
        "For that use the following commands:\n",
        "\n",
        "pip install pycryptodome"
      ]
    },
    {
      "cell_type": "markdown",
      "id": "818683d8",
      "metadata": {
        "id": "818683d8"
      },
      "source": [
        "Execute the following code."
      ]
    },
    {
      "cell_type": "code",
      "source": [
        "!pip install pycryptodome"
      ],
      "metadata": {
        "colab": {
          "base_uri": "https://localhost:8080/"
        },
        "id": "2OoDr7bFYqfR",
        "outputId": "82193386-036b-4fe3-8130-0c4ba5981814"
      },
      "id": "2OoDr7bFYqfR",
      "execution_count": null,
      "outputs": [
        {
          "output_type": "stream",
          "name": "stdout",
          "text": [
            "Collecting pycryptodome\n",
            "  Downloading pycryptodome-3.21.0-cp36-abi3-manylinux_2_17_x86_64.manylinux2014_x86_64.whl.metadata (3.4 kB)\n",
            "Downloading pycryptodome-3.21.0-cp36-abi3-manylinux_2_17_x86_64.manylinux2014_x86_64.whl (2.3 MB)\n",
            "\u001b[2K   \u001b[90m━━━━━━━━━━━━━━━━━━━━━━━━━━━━━━━━━━━━━━━━\u001b[0m \u001b[32m2.3/2.3 MB\u001b[0m \u001b[31m20.6 MB/s\u001b[0m eta \u001b[36m0:00:00\u001b[0m\n",
            "\u001b[?25hInstalling collected packages: pycryptodome\n",
            "Successfully installed pycryptodome-3.21.0\n"
          ]
        }
      ]
    },
    {
      "cell_type": "code",
      "execution_count": null,
      "id": "8113a542",
      "metadata": {
        "id": "8113a542",
        "colab": {
          "base_uri": "https://localhost:8080/"
        },
        "outputId": "a40bd1b3-23f2-472f-d7e2-f489b76a7d2b"
      },
      "outputs": [
        {
          "output_type": "stream",
          "name": "stdout",
          "text": [
            "The plaintext is: 0xab638818a120ca2d3edaa933d11fd5fb\n",
            "\n",
            "plaintext state is:\n",
            "0xab 0xa1 0x3e 0xd1\n",
            "0x63 0x20 0xda 0x1f\n",
            "0x88 0xca 0xa9 0xd5\n",
            "0x18 0x2d 0x33 0xfb\n",
            "\n",
            "The master key is: 0x55fc4c6461aad1c2c0bc139eb4db8d87\n",
            "\n",
            "master key state is:\n",
            "0x55 0x61 0xc0 0xb4\n",
            "0xfc 0xaa 0xbc 0xdb\n",
            "0x4c 0xd1 0x13 0x8d\n",
            "0x64 0xc2 0x9e 0x87\n",
            "\n",
            "ciphertext state is:\n",
            "0x84 0xa 0x22 0xda\n",
            "0x8e 0x44 0xe8 0xb0\n",
            "0xe5 0x1b 0x80 0xfe\n",
            "0xb5 0x5 0xcc 0xed\n",
            "\n",
            "The ciphertext key is: 0x848ee5b50a441b0522e880ccdab0feed\n"
          ]
        }
      ],
      "source": [
        "from Crypto.Cipher import AES\n",
        "from Crypto.Random import get_random_bytes\n",
        "\n",
        "plaintext_bytes = get_random_bytes(16)\n",
        "plaintext = int.from_bytes(plaintext_bytes, byteorder='big')\n",
        "print('The plaintext is:',hex(plaintext))\n",
        "\n",
        "print('\\nplaintext state is:')\n",
        "for i in range(0,4):\n",
        "    print(hex(plaintext_bytes[i]),hex(plaintext_bytes[i+4]),hex(plaintext_bytes[i+8]),hex(plaintext_bytes[i+12]))\n",
        "\n",
        "master_key_bytes = get_random_bytes(16)\n",
        "master_key = int.from_bytes(master_key_bytes, byteorder='big')\n",
        "print('\\nThe master key is:',hex(master_key))\n",
        "\n",
        "print('\\nmaster key state is:')\n",
        "for i in range(0,4):\n",
        "    print(hex(master_key_bytes[i]),hex(master_key_bytes[i+4]),hex(master_key_bytes[i+8]),hex(master_key_bytes[i+12]))\n",
        "\n",
        "\n",
        "cipher = AES.new(master_key_bytes, AES.MODE_ECB)\n",
        "ciphertext_bytes = cipher.encrypt(plaintext_bytes)\n",
        "\n",
        "print('\\nciphertext state is:')\n",
        "for i in range(0,4):\n",
        "    print(hex(ciphertext_bytes[i]),hex(ciphertext_bytes[i+4]),hex(ciphertext_bytes[i+8]),hex(ciphertext_bytes[i+12]))\n",
        "\n",
        "ciphertext = int.from_bytes(ciphertext_bytes, byteorder='big')\n",
        "print('\\nThe ciphertext key is:',hex(ciphertext))\n"
      ]
    },
    {
      "cell_type": "markdown",
      "id": "42fc7aad",
      "metadata": {
        "id": "42fc7aad"
      },
      "source": [
        "### Question 5: What can you say about this code? compare the execution with the previous code you have written. Do you obtain the same result?"
      ]
    },
    {
      "cell_type": "code",
      "execution_count": 7,
      "metadata": {
        "id": "164105d7",
        "colab": {
          "base_uri": "https://localhost:8080/"
        },
        "outputId": "86774ea3-140f-42d6-fb36-9c028f82278c"
      },
      "outputs": [
        {
          "output_type": "stream",
          "name": "stdout",
          "text": [
            "\n",
            "plaintext is: 0xab638818a120ca2d3edaa933d11fd5fb\n",
            "ciphertext is: 0x848ee5b50a441b0522e880ccdab0feed\n",
            "Both algorithms provide the same ciphertext: True\n",
            "\n",
            "plaintext was: 0xab638818a120ca2d3edaa933d11fd5fb\n",
            "decryption returns: 0xab638818a120ca2d3edaa933d11fd5fb\n",
            "Both algorithms provide the same decrypted data: True\n"
          ]
        }
      ],
      "source": [
        "def encrypt(plaintext, master_key):\n",
        "        round_keys = change_key(master_key)\n",
        "        plain_state = text2matrix(plaintext)\n",
        "        add_round_key(plain_state, round_keys[:4])\n",
        "\n",
        "        for i in range(1, 10):\n",
        "            round_encrypt(plain_state, round_keys[4 * i : 4 * (i + 1)])\n",
        "\n",
        "        sub_bytes(plain_state)\n",
        "        shift_rows(plain_state)\n",
        "        add_round_key(plain_state, round_keys[40:])\n",
        "\n",
        "        return matrix2text(plain_state)\n",
        "def decrypt(ciphertext, master_key):\n",
        "        round_keys = change_key(master_key)\n",
        "        cipher_state = text2matrix(ciphertext)\n",
        "\n",
        "        add_round_key(cipher_state, round_keys[40:])\n",
        "        inv_shift_rows(cipher_state)\n",
        "        inv_sub_bytes(cipher_state)\n",
        "\n",
        "        for i in range(9, 0, -1):\n",
        "            round_decrypt(cipher_state, round_keys[4 * i : 4 * (i + 1)])\n",
        "\n",
        "        add_round_key(cipher_state, round_keys[:4])\n",
        "\n",
        "        return matrix2text(cipher_state)\n",
        "plaintext_aes = 0xab638818a120ca2d3edaa933d11fd5fb #use the same plaintext as the execution above\n",
        "masterkey_aes = 0x55fc4c6461aad1c2c0bc139eb4db8d87\n",
        "print('\\nplaintext is:',hex(plaintext_aes))\n",
        "\n",
        "ciphertext_aes = encrypt(plaintext_aes, masterkey_aes)\n",
        "print('ciphertext is:',hex(ciphertext_aes))\n",
        "print('Both algorithms provide the same ciphertext:', ciphertext_aes==ciphertext)\n",
        "\n",
        "decrypted_aes = decrypt(ciphertext_aes, masterkey_aes)\n",
        "\n",
        "print('\\nplaintext was:', hex(plaintext_aes))\n",
        "print('decryption returns:', hex(decrypted_aes))\n",
        "\n",
        "print('Both algorithms provide the same decrypted data:',decrypted_aes==plaintext)"
      ],
      "id": "164105d7"
    },
    {
      "cell_type": "markdown",
      "source": [
        "The two implementation provide the same cyphertext given the same key and plaintext. Please note that a modified version of the encrypt() and decrypt() function has been implemented in order to pass the desired key as a parameter."
      ],
      "metadata": {
        "id": "36KeF26vIuod"
      },
      "id": "36KeF26vIuod"
    },
    {
      "cell_type": "markdown",
      "id": "cbe19460",
      "metadata": {
        "id": "cbe19460"
      },
      "source": [
        "### Question 6: Try other modes of operation from the library and comment the results. Explain how mode works each mode."
      ]
    },
    {
      "cell_type": "code",
      "execution_count": null,
      "metadata": {
        "colab": {
          "base_uri": "https://localhost:8080/"
        },
        "outputId": "63380d61-7842-4055-fc99-6cf6c48a3089",
        "id": "F3yIoNmZbYWj"
      },
      "outputs": [
        {
          "output_type": "stream",
          "name": "stdout",
          "text": [
            "{\"nonce\": \"5TINh9AT58I=\", \"ciphertext\": \"eV2m9xlQ\"}\n",
            "{\"nonce\": \"4NqPODzK7H0=\", \"ciphertext\": \"BWktSI4o\"}\n",
            "{\"nonce\": \"UEiGtliLWD0=\", \"ciphertext\": \"b0m9v6lf\"}\n",
            "{\"nonce\": \"sKJoFXsSlGQ=\", \"ciphertext\": \"i4tUEUiL\"}\n",
            "{\"nonce\": \"aLIATEEOfpM=\", \"ciphertext\": \"93sFkRTy\"}\n"
          ]
        }
      ],
      "source": [
        "import json\n",
        "from base64 import b64encode\n",
        "from Crypto.Cipher import AES\n",
        "from Crypto.Random import get_random_bytes\n",
        "\n",
        "data = b\"secret\"\n",
        "key = get_random_bytes(16)\n",
        "for i in range(5):\n",
        "  cipher = AES.new(key, AES.MODE_CTR)\n",
        "  ct_bytes = cipher.encrypt(data)\n",
        "  nonce = b64encode(cipher.nonce).decode('utf-8')\n",
        "  ct = b64encode(ct_bytes).decode('utf-8')\n",
        "  result = json.dumps({'nonce':nonce, 'ciphertext':ct})\n",
        "  print(result)"
      ],
      "id": "F3yIoNmZbYWj"
    },
    {
      "cell_type": "code",
      "source": [
        "import json\n",
        "from base64 import b64decode\n",
        "from Crypto.Cipher import AES\n",
        "json_input = result\n",
        "try:\n",
        "    b64 = json.loads(json_input)\n",
        "    nonce = b64decode(b64['nonce'])\n",
        "    ct = b64decode(b64['ciphertext'])\n",
        "    cipher = AES.new(key, AES.MODE_CTR, nonce=nonce)\n",
        "    pt = cipher.decrypt(ct)\n",
        "    print(\"The message was: \", pt)\n",
        "except (ValueError, KeyError):\n",
        "    print(\"Incorrect decryption\")"
      ],
      "metadata": {
        "colab": {
          "base_uri": "https://localhost:8080/"
        },
        "id": "mWOJd_VqdNvv",
        "outputId": "5f7eee09-7e01-4314-e172-7382ce5c93b5"
      },
      "id": "mWOJd_VqdNvv",
      "execution_count": null,
      "outputs": [
        {
          "output_type": "stream",
          "name": "stdout",
          "text": [
            "The message was:  b'secret'\n"
          ]
        }
      ]
    },
    {
      "cell_type": "markdown",
      "source": [
        "For this example, we tried to utilize the CTR (counter) mode.\n",
        "This method works by generating a nonce as a start value for a counter that will be gradually incremented and encrypted to generate a key stream. This mode of operation enables parallel encryption and decryption.\n"
      ],
      "metadata": {
        "id": "6oFyy8gjHWn2"
      },
      "id": "6oFyy8gjHWn2"
    },
    {
      "cell_type": "markdown",
      "id": "94ce3ac1",
      "metadata": {
        "id": "94ce3ac1"
      },
      "source": [
        "# Part 4: Ciphering and deciphering a file\n",
        "\n",
        "### Question 7: Build the proposed code. Explain your code.\n",
        "The idea is to have a text into a file.\n",
        "The goal is to open the file, get the text, split it into blocks of 128 bits and cipher each block separately (as in ECB mode).\n",
        "Then to decipher each block and to rebuild the text in order to compare if the initial text is recovered."
      ]
    },
    {
      "cell_type": "code",
      "execution_count": 12,
      "id": "2583e21b",
      "metadata": {
        "id": "2583e21b",
        "colab": {
          "base_uri": "https://localhost:8080/"
        },
        "outputId": "b341bee4-6729-4165-9fc4-2fd6d6766ba2"
      },
      "outputs": [
        {
          "output_type": "stream",
          "name": "stdout",
          "text": [
            "Original text: Lorem ipsum dolor sit amet  consectetur adipiscing elit  sed do eiusmod temporincididunt ut labore et dolore magna aliqua  Ut enim ad minim veniam  quis nostrudexercitation ullamco laboris nisi ut aliquip ex ea commodo consequat  Duis aute iruredolor in reprehenderit in voluptate velit esse cillum dolore eu fugiat nulla pariatur Excepteur sint occaecat cupidatat non proident  sunt in culpa qui officia deseruntmollit anim id est laborum \n",
            "Encrypted data: [174922593588488555763879009186695921406, 137139588542431667393318048237936347221, 50436656396765820366351182906280228259, 324096890465704864315737213665240573994, 140193952939845523559114270233813618812, 268027589320743376079168650141331334737, 41854803712837721279252450186690120751, 219246044238248954408153220833219497279, 104331944128088833342507622619894989907, 218012874387838629801844363884703099468, 35283577229379861412849678498119041703, 274462652706601024705723853069452209631, 236450997417061103252666614138698401688, 48654694733306278149985153565340135595, 315189314899870857696259245630301510649, 327181801501137865842537516424348475212, 174867106847503296317767980372208563156, 273885676526371459756818724261398761004, 104914210398236951337647234341602979227, 196722772982862710520684030908838945736, 257084074894058982816186415716996445199, 211528830590558069836251722731923748709, 90742711009687281676039929109178114860, 262358400256062275791992096457108661790, 44788666852365158128434212595404760096, 201867954609151883291944128740186849919, 261492523728849284178799489949790294817, 159661267718339048899562753968278073659]\n",
            "Alice receives encrypted message:  [174922593588488555763879009186695921406, 137139588542431667393318048237936347221, 50436656396765820366351182906280228259, 324096890465704864315737213665240573994, 140193952939845523559114270233813618812, 268027589320743376079168650141331334737, 41854803712837721279252450186690120751, 219246044238248954408153220833219497279, 104331944128088833342507622619894989907, 218012874387838629801844363884703099468, 35283577229379861412849678498119041703, 274462652706601024705723853069452209631, 236450997417061103252666614138698401688, 48654694733306278149985153565340135595, 315189314899870857696259245630301510649, 327181801501137865842537516424348475212, 174867106847503296317767980372208563156, 273885676526371459756818724261398761004, 104914210398236951337647234341602979227, 196722772982862710520684030908838945736, 257084074894058982816186415716996445199, 211528830590558069836251722731923748709, 90742711009687281676039929109178114860, 262358400256062275791992096457108661790, 44788666852365158128434212595404760096, 201867954609151883291944128740186849919, 261492523728849284178799489949790294817, 159661267718339048899562753968278073659]\n",
            "Decrypted text: Lorem ipsum dolor sit amet  consectetur adipiscing elit  sed do eiusmod temporincididunt ut labore et dolore magna aliqua  Ut enim ad minim veniam  quis nostrudexercitation ullamco laboris nisi ut aliquip ex ea commodo consequat  Duis aute iruredolor in reprehenderit in voluptate velit esse cillum dolore eu fugiat nulla pariatur Excepteur sint occaecat cupidatat non proident  sunt in culpa qui officia deseruntmollit anim id est laborum \n",
            "Success! The decrypted text matches the original text.\n"
          ]
        }
      ],
      "source": [
        "import re\n",
        "def chunkstring(string, length):\n",
        "    return (string[0+i:length+i] for i in range(0, len(string), length))\n",
        "\n",
        "def encryptMessage(message, key):\n",
        "  message = message.encode('utf-8')\n",
        "  ciphertext = []\n",
        "  for chunk in chunkstring(message, 16):\n",
        "    plaintext = chunk.hex()\n",
        "    plaintext = int(plaintext,16)\n",
        "    ciphertext.append(encrypt(plaintext, key))\n",
        "  return ciphertext\n",
        "def decryptMessage(enc_message, key):\n",
        "  print(\"Alice receives encrypted message: \", enc_message)\n",
        "  decrypted_aes_string = \"\"\n",
        "  for block in enc_message:\n",
        "    decrypted_aes = decrypt(block, key)\n",
        "    decrypted_aes_string += bytes.fromhex(format(decrypted_aes,'x')).decode('utf-8')\n",
        "  return decrypted_aes_string\n",
        "\n",
        "file_path = \"test.txt\"\n",
        "with open(file_path, \"w\") as file:\n",
        "    file.write(\"\"\"Lorem ipsum dolor sit amet , consectetur adipiscing elit , sed do eiusmod tempor\n",
        "incididunt ut labore et dolore magna aliqua . Ut enim ad minim veniam , quis nostrud\n",
        "exercitation ullamco laboris nisi ut aliquip ex ea commodo consequat . Duis aute irure\n",
        "dolor in reprehenderit in voluptate velit esse cillum dolore eu fugiat nulla pariatur .\n",
        "Excepteur sint occaecat cupidatat non proident , sunt in culpa qui officia deserunt\n",
        "mollit anim id est laborum .\"\"\")\n",
        "\n",
        "key = 0xb12947ddb0614591e32528c735315877\n",
        "f = open(file_path, \"r\")\n",
        "original_text = f.read()\n",
        "f.close()\n",
        "original_text = re.sub(r'[^0-9a-zA-Z ]', '', original_text) # removes invalid characters\n",
        "print(f\"Original text: {original_text}\")\n",
        "\n",
        "# Encrypt the text\n",
        "encrypted_data = encryptMessage(original_text, key)\n",
        "print(f\"Encrypted data: {encrypted_data}\")\n",
        "\n",
        "# Decrypt the encrypted data\n",
        "decrypted_text = decryptMessage(encrypted_data, key)\n",
        "print(f\"Decrypted text: {decrypted_text}\")\n",
        "\n",
        "# Compare the original text with the decrypted text\n",
        "if original_text == decrypted_text:\n",
        "    print(\"Success! The decrypted text matches the original text.\")\n",
        "else:\n",
        "    print(\"Error! The decrypted text does not match the original text.\")\n",
        "\n",
        "#write_file('encrypted_output.txt', encrypted_data.hex())\n",
        "#write_file('decrypted_output.txt', decrypted_text)"
      ]
    },
    {
      "cell_type": "markdown",
      "source": [
        "This code read from a file, divides the text into chunks and encrypt each one of those separately, in an ECB fashion. The chunking is performed by the chunkstring() method that, given a string and a number, return a list of chunks of the desired length (in this case 16 characters).\n",
        "\n",
        "What is returned by the encryptMessage() function is an array of blocks that can be put togheter by the decryptMessage() method."
      ],
      "metadata": {
        "id": "NtJq6wmyJCEP"
      },
      "id": "NtJq6wmyJCEP"
    }
  ],
  "metadata": {
    "kernelspec": {
      "display_name": "Python 3 (ipykernel)",
      "language": "python",
      "name": "python3"
    },
    "language_info": {
      "codemirror_mode": {
        "name": "ipython",
        "version": 3
      },
      "file_extension": ".py",
      "mimetype": "text/x-python",
      "name": "python",
      "nbconvert_exporter": "python",
      "pygments_lexer": "ipython3",
      "version": "3.11.5"
    },
    "colab": {
      "provenance": []
    }
  },
  "nbformat": 4,
  "nbformat_minor": 5
}