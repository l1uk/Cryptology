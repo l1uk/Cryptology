{
  "cells": [
    {
      "cell_type": "markdown",
      "id": "e7ffc782",
      "metadata": {
        "id": "e7ffc782"
      },
      "source": [
        "# Exercice 3: asymetric cryptography algorithm"
      ]
    },
    {
      "cell_type": "markdown",
      "id": "c1e06dfd",
      "metadata": {
        "id": "c1e06dfd"
      },
      "source": [
        "This session is based on the book: **Cracking Codes with Python - An Introduction to Building and Breaking Ciphers**\n",
        "\n",
        "by Al Sweigart\n",
        "January 2018, 416 pp.\n",
        "ISBN-13:9781593278229\n",
        "\n",
        "All codes (BSD Licensed) are available at https://nostarch.com/crackingcodes"
      ]
    },
    {
      "cell_type": "code",
      "execution_count": null,
      "id": "10224e61",
      "metadata": {
        "id": "10224e61"
      },
      "outputs": [],
      "source": [
        "import random, sys, os, math"
      ]
    },
    {
      "cell_type": "markdown",
      "id": "fdcf32c8",
      "metadata": {
        "id": "fdcf32c8"
      },
      "source": [
        "# Part 1: Prime numbers and modular inverse"
      ]
    },
    {
      "cell_type": "markdown",
      "id": "90293a48",
      "metadata": {
        "id": "90293a48"
      },
      "source": [
        "## 1.1. Computation of Greatest Common Divisor of a and b using Euclid's Algorithm"
      ]
    },
    {
      "cell_type": "code",
      "execution_count": null,
      "id": "6f03f505",
      "metadata": {
        "id": "6f03f505"
      },
      "outputs": [],
      "source": [
        "def gcd(a, b):\n",
        "    # Return the Greatest Common Divisor of a and b using Euclid's Algorithm\n",
        "    while a != 0:\n",
        "        a, b = b % a, a\n",
        "    return b"
      ]
    },
    {
      "cell_type": "markdown",
      "id": "5770b037",
      "metadata": {
        "id": "5770b037"
      },
      "source": [
        "Check the Euclid's Algorithm and try different values"
      ]
    },
    {
      "cell_type": "code",
      "execution_count": null,
      "id": "3a72cdb4",
      "metadata": {
        "colab": {
          "base_uri": "https://localhost:8080/"
        },
        "id": "3a72cdb4",
        "outputId": "7c0f8c1b-dc2d-4ed4-cd91-8ae5c4cbc96c"
      },
      "outputs": [
        {
          "output_type": "execute_result",
          "data": {
            "text/plain": [
              "5"
            ]
          },
          "metadata": {},
          "execution_count": 17
        }
      ],
      "source": [
        "#This is an example\n",
        "gcd(150,3)\n",
        "gcd(15,10)"
      ]
    },
    {
      "cell_type": "markdown",
      "id": "101fb021",
      "metadata": {
        "id": "101fb021"
      },
      "source": [
        "## 1.2. Computation of the modular inverse of a % m"
      ]
    },
    {
      "cell_type": "code",
      "execution_count": null,
      "id": "21a90b23",
      "metadata": {
        "id": "21a90b23"
      },
      "outputs": [],
      "source": [
        "def findModInverse(a, m):\n",
        "    # Return the modular inverse of a % m, which is\n",
        "    # the number x such that a*x % m = 1\n",
        "\n",
        "    if gcd(a, m) != 1:\n",
        "        return None # No mod inverse exists if a & m aren't relatively prime.\n",
        "\n",
        "    # Calculate using the Extended Euclidean Algorithm:\n",
        "    u1, u2, u3 = 1, 0, a\n",
        "    v1, v2, v3 = 0, 1, m\n",
        "    while v3 != 0:\n",
        "        q = u3 // v3 # Note that // is the integer division operator\n",
        "        v1, v2, v3, u1, u2, u3 = (u1 - q * v1), (u2 - q * v2), (u3 - q * v3), v1, v2, v3\n",
        "    return u1 % m"
      ]
    },
    {
      "cell_type": "markdown",
      "id": "4a57e03c",
      "metadata": {
        "id": "4a57e03c"
      },
      "source": [
        "Try different values and verify the result"
      ]
    },
    {
      "cell_type": "code",
      "execution_count": null,
      "id": "8acf7729",
      "metadata": {
        "colab": {
          "base_uri": "https://localhost:8080/"
        },
        "id": "8acf7729",
        "outputId": "5d97b04f-0536-4e06-ab59-318db324697f"
      },
      "outputs": [
        {
          "output_type": "execute_result",
          "data": {
            "text/plain": [
              "2"
            ]
          },
          "metadata": {},
          "execution_count": 19
        }
      ],
      "source": [
        "#This is an example\n",
        "findModInverse(4, 7)"
      ]
    },
    {
      "cell_type": "markdown",
      "id": "85599759",
      "metadata": {
        "id": "85599759"
      },
      "source": [
        "## 1.3. Algorithms to verify if a number is a prime number"
      ]
    },
    {
      "cell_type": "code",
      "execution_count": null,
      "id": "a062d145",
      "metadata": {
        "id": "a062d145"
      },
      "outputs": [],
      "source": [
        "import math\n",
        "def isPrimeTrialDiv(num):\n",
        "    # Returns True if num is a prime number, otherwise False.\n",
        "\n",
        "    # Uses the trial division algorithm for testing primality.\n",
        "\n",
        "    # All numbers less than 2 are not prime:\n",
        "    if num < 2:\n",
        "        return False\n",
        "\n",
        "    # See if num is divisible by any number up to the square root of num:\n",
        "    for i in range(2, int(math.sqrt(num)) + 1):\n",
        "        if num % i == 0:\n",
        "            return False\n",
        "    return True"
      ]
    },
    {
      "cell_type": "markdown",
      "id": "af5b0843",
      "metadata": {
        "id": "af5b0843"
      },
      "source": [
        "Check the algorithm and try different values"
      ]
    },
    {
      "cell_type": "code",
      "execution_count": null,
      "id": "6b02e515",
      "metadata": {
        "colab": {
          "base_uri": "https://localhost:8080/"
        },
        "id": "6b02e515",
        "outputId": "8ad7e010-bd70-47d2-aecc-76bdbde0418d"
      },
      "outputs": [
        {
          "output_type": "execute_result",
          "data": {
            "text/plain": [
              "True"
            ]
          },
          "metadata": {},
          "execution_count": 21
        }
      ],
      "source": [
        "#This is an example\n",
        "isPrimeTrialDiv(17)"
      ]
    },
    {
      "cell_type": "code",
      "execution_count": null,
      "id": "d0b17d56",
      "metadata": {
        "id": "d0b17d56"
      },
      "outputs": [],
      "source": [
        "def primeSieve(sieveSize):\n",
        "    # Returns a list of prime numbers calculated using\n",
        "    # the Sieve of Eratosthenes algorithm.\n",
        "\n",
        "    sieve = [True] * sieveSize\n",
        "    sieve[0] = False # Zero and one are not prime numbers.\n",
        "    sieve[1] = False\n",
        "\n",
        "    # Create the sieve:\n",
        "    for i in range(2, int(math.sqrt(sieveSize)) + 1):\n",
        "        pointer = i * 2\n",
        "        while pointer < sieveSize:\n",
        "            sieve[pointer] = False\n",
        "            pointer += i\n",
        "\n",
        "    # Compile the list of primes:\n",
        "    primes = []\n",
        "    for i in range(sieveSize):\n",
        "        if sieve[i] == True:\n",
        "            primes.append(i)\n",
        "\n",
        "    return primes"
      ]
    },
    {
      "cell_type": "markdown",
      "id": "b04ed181",
      "metadata": {
        "id": "b04ed181"
      },
      "source": [
        "Try different values"
      ]
    },
    {
      "cell_type": "code",
      "execution_count": null,
      "id": "85b79233",
      "metadata": {
        "colab": {
          "base_uri": "https://localhost:8080/"
        },
        "id": "85b79233",
        "outputId": "17fe693b-840e-476b-be2b-1382af8156dc"
      },
      "outputs": [
        {
          "output_type": "stream",
          "name": "stdout",
          "text": [
            "[2, 3, 5, 7, 11, 13, 17, 19, 23, 29, 31, 37, 41, 43, 47, 53, 59, 61, 67, 71, 73, 79, 83, 89, 97, 101, 103, 107, 109, 113, 127, 131, 137, 139, 149, 151, 157, 163, 167, 173, 179, 181, 191, 193, 197, 199]\n"
          ]
        }
      ],
      "source": [
        "#This is an example\n",
        "n = primeSieve(200)\n",
        "print(n)\n"
      ]
    },
    {
      "cell_type": "markdown",
      "id": "0ee84e13",
      "metadata": {
        "id": "0ee84e13"
      },
      "source": [
        "## 1.4. Rabin-Miller Algorithm"
      ]
    },
    {
      "cell_type": "code",
      "execution_count": null,
      "id": "13ac3c7e",
      "metadata": {
        "id": "13ac3c7e"
      },
      "outputs": [],
      "source": [
        "import random\n",
        "def rabinMiller(num):\n",
        "    # Returns True if num is a prime number.\n",
        "    if num % 2 == 0 or num < 2:\n",
        "        return False # Rabin-Miller doesn't work on even integers.\n",
        "    if num == 3:\n",
        "        return True\n",
        "    s = num - 1\n",
        "    t = 0\n",
        "    while s % 2 == 0:\n",
        "        # Keep halving s until it is odd (and use t\n",
        "        # to count how many times we halve s):\n",
        "        s = s // 2\n",
        "        t += 1\n",
        "    for trials in range(5): # Try to falsify num's primality 5 times.\n",
        "        a = random.randrange(2, num - 1)\n",
        "        v = pow(a, s, num)\n",
        "        if v != 1: # (This test does not apply if v is 1.)\n",
        "            i = 0\n",
        "            while v != (num - 1):\n",
        "                if i == t - 1:\n",
        "                    return False\n",
        "                else:\n",
        "                    i = i + 1\n",
        "                    v = (v ** 2) % num\n",
        "    return True"
      ]
    },
    {
      "cell_type": "markdown",
      "id": "6c508731",
      "metadata": {
        "id": "6c508731"
      },
      "source": [
        "### Question 1: How works the algorithm? Explain the code."
      ]
    },
    {
      "cell_type": "markdown",
      "source": [
        "in the first part of the algorithm, we find u, r variables for the theorem by halving the number until we find an odd one. The number of halvings is the power of 2.\n",
        "In the second part that is repeated multiples times to increase confidence, we try to find an a that satisfies the theorem by randomly picking a value and iteratively checking if the hyphotesis hold.\n",
        "\n",
        "We fist calculate a^r mod n and check if the result is one. If that's the case the test automatically fails (the number is not a composite).\n",
        "Otherwise, we try to find an i that invalidates the second part of the theorem by iterating over the values until t-1 (if we get until the end of the j definition it means that the number is definitely composite) or until the remainder satisfies the conditionm in which case it could be prime."
      ],
      "metadata": {
        "id": "LpkTxbPTZXs8"
      },
      "id": "LpkTxbPTZXs8"
    },
    {
      "cell_type": "code",
      "execution_count": null,
      "id": "21d6605d",
      "metadata": {
        "colab": {
          "base_uri": "https://localhost:8080/"
        },
        "id": "21d6605d",
        "outputId": "0cbcf715-d2d7-4ca2-f116-97adcf80f9e8"
      },
      "outputs": [
        {
          "output_type": "execute_result",
          "data": {
            "text/plain": [
              "True"
            ]
          },
          "metadata": {},
          "execution_count": 25
        }
      ],
      "source": [
        "#This is an example\n",
        "rabinMiller(37)"
      ]
    },
    {
      "cell_type": "markdown",
      "id": "84308ccf",
      "metadata": {
        "id": "84308ccf"
      },
      "source": [
        "## 1.5. Optimized prime number verifier algorithm"
      ]
    },
    {
      "cell_type": "code",
      "execution_count": null,
      "id": "cbe7df26",
      "metadata": {
        "colab": {
          "base_uri": "https://localhost:8080/"
        },
        "id": "cbe7df26",
        "outputId": "f51825b8-d638-4dff-86d7-95c49ea02291"
      },
      "outputs": [
        {
          "output_type": "stream",
          "name": "stdout",
          "text": [
            "[2, 3, 5, 7, 11, 13, 17, 19, 23, 29, 31, 37, 41, 43, 47, 53, 59, 61, 67, 71, 73, 79, 83, 89, 97]\n"
          ]
        }
      ],
      "source": [
        "# Most of the time we can quickly determine if num is not prime\n",
        "# by dividing by the first few dozen prime numbers. This is quicker\n",
        "# than rabinMiller(), but does not detect all composites.\n",
        "LOW_PRIMES = primeSieve(100)\n",
        "print(LOW_PRIMES)"
      ]
    },
    {
      "cell_type": "code",
      "execution_count": null,
      "id": "2a774dfc",
      "metadata": {
        "id": "2a774dfc"
      },
      "outputs": [],
      "source": [
        "def isPrime(num):\n",
        "    # Return True if num is a prime number. This function does a quicker\n",
        "    # prime number check before calling rabinMiller().\n",
        "    if (num < 2):\n",
        "        return False # 0, 1, and negative numbers are not prime.\n",
        "    # See if any of the low prime numbers can divide num:\n",
        "    for prime in LOW_PRIMES:\n",
        "        if (num == prime):\n",
        "            return True\n",
        "    for prime in LOW_PRIMES:\n",
        "        if (num % prime == 0):\n",
        "            return False\n",
        "    # If all else fails, call rabinMiller() to determine if num is a prime:\n",
        "    return rabinMiller(num)"
      ]
    },
    {
      "cell_type": "markdown",
      "id": "e0f34a73",
      "metadata": {
        "id": "e0f34a73"
      },
      "source": [
        "Check the algorithm and try different values"
      ]
    },
    {
      "cell_type": "code",
      "execution_count": null,
      "id": "a1f2e9dc",
      "metadata": {
        "colab": {
          "base_uri": "https://localhost:8080/"
        },
        "id": "a1f2e9dc",
        "outputId": "72743558-97ae-411c-ac98-e809b5ac515b"
      },
      "outputs": [
        {
          "output_type": "execute_result",
          "data": {
            "text/plain": [
              "False"
            ]
          },
          "metadata": {},
          "execution_count": 28
        }
      ],
      "source": [
        "# This is an example\n",
        "isPrime(870780)"
      ]
    },
    {
      "cell_type": "markdown",
      "id": "cb13ac05",
      "metadata": {
        "id": "cb13ac05"
      },
      "source": [
        "## 1.6. Large prime number generation"
      ]
    },
    {
      "cell_type": "code",
      "execution_count": null,
      "id": "8d94f4aa",
      "metadata": {
        "id": "8d94f4aa"
      },
      "outputs": [],
      "source": [
        "def generateLargePrime(keysize=1024):\n",
        "    # Return a random prime number that is keysize bits in size.\n",
        "    i=0\n",
        "    while True:\n",
        "        num = random.randrange(2**(keysize-1), 2**(keysize))\n",
        "        #print('random number', i, hex(num))\n",
        "        i = i + 1\n",
        "        if isPrime(num):\n",
        "            return num"
      ]
    },
    {
      "cell_type": "markdown",
      "id": "fddbe58b",
      "metadata": {
        "id": "fddbe58b"
      },
      "source": [
        "### Question 2: Explain the algorithm."
      ]
    },
    {
      "cell_type": "markdown",
      "source": [
        "You pick a number, and then we check if it is a prime number or not. If the number is prime, we return the prime number. Otherwise, we pcik another number."
      ],
      "metadata": {
        "id": "mrw2jy28gL15"
      },
      "id": "mrw2jy28gL15"
    },
    {
      "cell_type": "code",
      "execution_count": null,
      "id": "bbebadd6",
      "metadata": {
        "colab": {
          "base_uri": "https://localhost:8080/"
        },
        "id": "bbebadd6",
        "outputId": "ecb81c99-8819-4a8e-9cb8-44cd54e4ca21"
      },
      "outputs": [
        {
          "output_type": "stream",
          "name": "stdout",
          "text": [
            "0xa0b3065a4a50ac972343c8cb2fcf868b6abfd0e3a7a94fe0d2c9779598a85722469e11829f1a4c33992a2fe9518f94c46b29222f0e7d543bc5a438fb6670658159af97c787f62195b3569272487a538a0298238ee861469aaee0cc6736ff0e5faf39b8cebea5a4af31886009623a0eb4a779a5669dd970d17e4ce15fe05e7d5923a0857cd317503ad4d439e956434b86ca8e22b996751451dc75b3ca58af56bcc9e032494f7c0075752c4a6855391c60c85f64e65e2d1e1b22d61e12313ad57cbca3a8557a4b465f6a3e03f81da6c9fff95a69b94728867f7032360e4d35aa2bff90a4a2656a738f978e1d5b175d13a473ae3e954626a2442eea3cd85dc91fe5\n"
          ]
        }
      ],
      "source": [
        "key = generateLargePrime(2048)\n",
        "print(hex(key))"
      ]
    },
    {
      "cell_type": "markdown",
      "id": "3c3cf0a8",
      "metadata": {
        "id": "3c3cf0a8"
      },
      "source": [
        "# Part 2: RSA Algorithm"
      ]
    },
    {
      "cell_type": "markdown",
      "id": "4d7e7f7b",
      "metadata": {
        "id": "4d7e7f7b"
      },
      "source": [
        "## 2.1. RSA public key and private key generation"
      ]
    },
    {
      "cell_type": "code",
      "execution_count": null,
      "id": "9becceae",
      "metadata": {
        "id": "9becceae"
      },
      "outputs": [],
      "source": [
        "def generateKey(keySize):\n",
        "    # Creates a public/private keys keySize bits in size.\n",
        "    p = 0\n",
        "    q = 0\n",
        "    # Step 1: Create two prime numbers, p and q. Calculate n = p * q.\n",
        "    print('Generating p & q primes...')\n",
        "    while p == q:\n",
        "        p = generateLargePrime(keySize)\n",
        "        q = generateLargePrime(keySize)\n",
        "    n = p * q\n",
        "    phi = (p - 1) * (q - 1)\n",
        "    # Step 2: Create a number e that is relatively prime to (p-1)*(q-1):\n",
        "    print('Generating e that is relatively prime to (p-1)*(q-1)...')\n",
        "    e = 2\n",
        "    while gcd(e, phi) != 1:\n",
        "        # Keep trying random numbers for e until one is valid:\n",
        "        e = random.randrange(2 ** (keySize - 1), 2 ** (keySize))\n",
        "\n",
        "    # Step 3: Calculate d, the mod inverse of e:\n",
        "    print('Calculating d that is mod inverse of e...')\n",
        "    d = findModInverse(e, phi)\n",
        "\n",
        "    publicKey = (n, e)\n",
        "    privateKey = (n, d)\n",
        "\n",
        "    return (publicKey, privateKey)"
      ]
    },
    {
      "cell_type": "markdown",
      "id": "f9f77838",
      "metadata": {
        "id": "f9f77838"
      },
      "source": [
        "### Question 3: Complete the generateKey function and explain your solution."
      ]
    },
    {
      "cell_type": "code",
      "execution_count": null,
      "id": "c85b8022",
      "metadata": {
        "id": "c85b8022",
        "colab": {
          "base_uri": "https://localhost:8080/"
        },
        "outputId": "5b004d06-5f5c-4495-a385-ee485c1543ba"
      },
      "outputs": [
        {
          "output_type": "stream",
          "name": "stdout",
          "text": [
            "Generating p & q primes...\n",
            "Generating e that is relatively prime to (p-1)*(q-1)...\n",
            "Calculating d that is mod inverse of e...\n",
            "Public key: (63653797369212215818720574312125881740903419046890298031690795312405481479437, 300960354809865605716501929166901007619)\n",
            "Private key: (63653797369212215818720574312125881740903419046890298031690795312405481479437, 61985217294012857569975265915196909516318592037574338776693907260740648942247)\n"
          ]
        }
      ],
      "source": [
        "# This is an example\n",
        "publicKey, privateKey = generateKey(128)\n",
        "print('Public key:', publicKey)\n",
        "print('Private key:', privateKey)"
      ]
    },
    {
      "cell_type": "markdown",
      "id": "4a811978",
      "metadata": {
        "id": "4a811978"
      },
      "source": [
        "## 2.2. Storing public and private keys into files"
      ]
    },
    {
      "cell_type": "code",
      "execution_count": null,
      "id": "d651dbb0",
      "metadata": {
        "id": "d651dbb0"
      },
      "outputs": [],
      "source": [
        "def makeKeyFiles(name, keySize):\n",
        "    # Creates two files 'x_pubkey.txt' and 'x_privkey.txt' (where x\n",
        "    # is the value in name) with the n,e and d,e integers written in\n",
        "    # them, delimited by a comma.\n",
        "\n",
        "    # Our safety check will prevent us from overwriting our old key files:\n",
        "    if os.path.exists('%s_pubkey.txt' % (name)) or os.path.exists('%s_privkey.txt' % (name)):\n",
        "        sys.exit('WARNING: The file %s_pubkey.txt or %s_privkey.txt already exists! Use a different name or delete these files and re-run this program.' % (name, name))\n",
        "\n",
        "    publicKey, privateKey = generateKey(keySize)\n",
        "\n",
        "    print()\n",
        "    print('The public key is a %s and a %s digit number.' % (len(str(publicKey[0])), len(str(publicKey[1]))))\n",
        "    print('Writing public key to file %s_pubkey.txt...' % (name))\n",
        "    fo = open('%s_pubkey.txt' % (name), 'w')\n",
        "    fo.write('%s,%s,%s' % (keySize, publicKey[0], publicKey[1]))\n",
        "    fo.close()\n",
        "\n",
        "    print()\n",
        "    print('The private key is a %s and a %s digit number.' % (len(str(publicKey[0])), len(str(publicKey[1]))))\n",
        "    print('Writing private key to file %s_privkey.txt...' % (name))\n",
        "    fo = open('%s_privkey.txt' % (name), 'w')\n",
        "    fo.write('%s,%s,%s' % (keySize, privateKey[0], privateKey[1]))\n",
        "    fo.close()"
      ]
    },
    {
      "cell_type": "markdown",
      "source": [
        "Here we created two files for storing the private key and public key. We have the keysize, private key and public key."
      ],
      "metadata": {
        "id": "cAquEdGl1ji9"
      },
      "id": "cAquEdGl1ji9"
    },
    {
      "cell_type": "markdown",
      "id": "671bc430",
      "metadata": {
        "id": "671bc430"
      },
      "source": [
        "### Question 4: Explain the makeKeyFiles function"
      ]
    },
    {
      "cell_type": "code",
      "execution_count": null,
      "id": "b7b04763",
      "metadata": {
        "id": "b7b04763",
        "colab": {
          "base_uri": "https://localhost:8080/"
        },
        "outputId": "f7b2148e-31e7-423e-e37d-fc5ec04fce37"
      },
      "outputs": [
        {
          "output_type": "stream",
          "name": "stdout",
          "text": [
            "Making key files...\n",
            "Generating p & q primes...\n",
            "Generating e that is relatively prime to (p-1)*(q-1)...\n",
            "Calculating d that is mod inverse of e...\n",
            "\n",
            "The public key is a 617 and a 309 digit number.\n",
            "Writing public key to file testt_key_pubkey.txt...\n",
            "\n",
            "The private key is a 617 and a 309 digit number.\n",
            "Writing private key to file testt_key_privkey.txt...\n",
            "Key files made.\n"
          ]
        }
      ],
      "source": [
        "# Create a public/private keypair with 1024 bit keys:\n",
        "print('Making key files...')\n",
        "makeKeyFiles('testt_key', 1024)\n",
        "print('Key files made.')\n"
      ]
    },
    {
      "cell_type": "markdown",
      "id": "da7de00b",
      "metadata": {
        "id": "da7de00b"
      },
      "source": [
        "## 2.3. RSA encryption"
      ]
    },
    {
      "cell_type": "code",
      "execution_count": null,
      "id": "9d222451",
      "metadata": {
        "id": "9d222451"
      },
      "outputs": [],
      "source": [
        "# IMPORTANT: The block size MUST be less than or equal to the key size!\n",
        "# (Note: The block size is in bytes, the key size is in bits. There\n",
        "# are 8 bits in 1 byte.)\n",
        "\n",
        "DEFAULT_BLOCK_SIZE = 128 # 128 bytes\n",
        "BYTE_SIZE = 256 # One byte has 256 different values.\n",
        "\n",
        "def getBlocksFromText(message, blockSize=DEFAULT_BLOCK_SIZE):\n",
        "    # Converts a string message to a list of block integers. Each integer\n",
        "    # represents 128 (or whatever blockSize is set to) string characters.\n",
        "\n",
        "    messageBytes = message.encode('ascii') # convert the string to bytes\n",
        "\n",
        "    blockInts = []\n",
        "    for blockStart in range(0, len(messageBytes), blockSize):\n",
        "        # Calculate the block integer for this block of text\n",
        "        blockInt = 0\n",
        "        for i in range(blockStart, min(blockStart + blockSize, len(messageBytes))):\n",
        "            blockInt += messageBytes[i] * (BYTE_SIZE ** (i % blockSize))\n",
        "        blockInts.append(blockInt)\n",
        "    return blockInts\n",
        "\n",
        "\n",
        "def encryptMessage(message, key, blockSize=DEFAULT_BLOCK_SIZE):\n",
        "    # Converts the message string into a list of block integers, and then\n",
        "    # encrypts each block integer. Pass the PUBLIC key to encrypt.\n",
        "    encryptedBlocks = []\n",
        "    n, e = key\n",
        "\n",
        "    for block in getBlocksFromText(message, blockSize):\n",
        "        # ciphertext = plaintext ^ e mod n\n",
        "\n",
        "        # complete the code to perform the modular exponentiation (encryption)\n",
        "        # ...\n",
        "        ciphertext = pow(block, e, n)\n",
        "        encryptedBlocks.append(ciphertext)\n",
        "\n",
        "    return encryptedBlocks\n",
        "\n",
        "\n",
        "def readKeyFile(keyFilename):\n",
        "    # Given the filename of a file that contains a public or private key,\n",
        "    # return the key as a (n,e) or (n,d) tuple value.\n",
        "    fo = open(keyFilename)\n",
        "    content = fo.read()\n",
        "    fo.close()\n",
        "    keySize, n, EorD = content.split(',')\n",
        "    return (int(keySize), int(n), int(EorD))\n",
        "\n",
        "\n",
        "def encryptAndWriteToFile(messageFilename, keyFilename, message, blockSize=DEFAULT_BLOCK_SIZE):\n",
        "    # Using a key from a key file, encrypt the message and save it to a\n",
        "    # file. Returns the encrypted message string.\n",
        "    keySize, n, e = readKeyFile(keyFilename)\n",
        "\n",
        "    # Check that key size is greater than block size.\n",
        "    if keySize < blockSize * 8: # * 8 to convert bytes to bits\n",
        "        sys.exit('ERROR: Block size is %s bits and key size is %s bits. The RSA cipher requires the block size to be equal to or greater than the key size. Either decrease the block size or use different keys.' % (blockSize * 8, keySize))\n",
        "\n",
        "    # Encrypt the message\n",
        "    encryptedBlocks = encryptMessage(message, (n, e), blockSize)\n",
        "\n",
        "    # Convert the large int values to one string value.\n",
        "    for i in range(len(encryptedBlocks)):\n",
        "        encryptedBlocks[i] = str(encryptedBlocks[i])\n",
        "    encryptedContent = ','.join(encryptedBlocks)\n",
        "\n",
        "    # Write out the encrypted string to the output file.\n",
        "    encryptedContent = '%s_%s_%s' % (len(message), blockSize, encryptedContent)\n",
        "    fo = open(messageFilename, 'w')\n",
        "    fo.write(encryptedContent)\n",
        "    fo.close()\n",
        "    # Also return the encrypted string.\n",
        "    return encryptedContent"
      ]
    },
    {
      "cell_type": "markdown",
      "id": "cb2238ea",
      "metadata": {
        "id": "cb2238ea"
      },
      "source": [
        "### Question 5: Complete the code and explain the encryption process."
      ]
    },
    {
      "cell_type": "code",
      "execution_count": null,
      "id": "f52426ef",
      "metadata": {
        "id": "f52426ef",
        "colab": {
          "base_uri": "https://localhost:8080/"
        },
        "outputId": "d3e14c8f-d1d2-4683-86a7-9f040c1d4b6f"
      },
      "outputs": [
        {
          "output_type": "stream",
          "name": "stdout",
          "text": [
            "Encrypting and writing to encrypted_file.txt...\n",
            "Encrypted text:\n",
            "262_128_2928253126428522715982838705821322546623010892756310452820821685488590818826487149955793029318373473345096195757117610739596969071342383562473520862785263440964628034362522576341809225828310372056191244803567029668659851485434419587613908532349027035760087430013153156739511006147183887646298067380508799929568699867206939836574977273708507383273044702146561562308058262872850686464869262841221213886848291306469297233543198278325412341784255110373634972835188563203507629965016866940049285697161779834423982839905657499186670308555770228495619332151377388339755657798375984323219444752966663080081884016189902850105,8331036018673581814411794244614120874164537287782412999632607928076547520079890980193064042622899940157009801236005059189072553062323717409639952771974410219074263435487056994652471560648837239452588879610067267911004394710265939527123204619248828566629698723879787603986668671080305566222539973931396523159559984065010702336684354662944094086253053136083511029090878342455982251996105919031281702861474793030145990196489892728530637587467870530599155145663536839852679745704959610712314884569585604313993623511247149628932204849338546914593252594486673212612698683187332801071066503471478471642320611626358110147814,7796405362721642821818724129393528134695172110279419999633276583401197845831261192748851653250304368337691659575579323661643620085684262453760959702140942164411217286034259468135140261925547584155926922900233335888201487130295528618220050273855167983328707712416208118022554188673675213934649563353646867728569792005146174543871499409856190121640533995364809492997534337814512490652400951440982706929447466442828888220712046933718427666480227493710199952466220233566677338401090166489675038046598568749912187500420940411126260159573637362577226843098196400709438028182607658676572408075923131483448025993621410263785\n"
          ]
        }
      ],
      "source": [
        "# Runs a test that encrypts a message to a file or decrypts a message\n",
        "# from a file.\n",
        "filename = 'encrypted_file.txt' # the file to write to/read from\n",
        "\n",
        "message = '''\"Journalists belong in the gutter because that is where the ruling classes throw their guilty secrets.\" -Gerald Priestland \"The Founding Fathers gave the free press the protection it must have to bare the secrets of government and inform the people.\" -Hugo Black'''\n",
        "pubKeyFilename = 'testt_key_pubkey.txt'\n",
        "print('Encrypting and writing to %s...' % (filename))\n",
        "encryptedText = encryptAndWriteToFile(filename, pubKeyFilename, message)\n",
        "\n",
        "print('Encrypted text:')\n",
        "print(encryptedText)"
      ]
    },
    {
      "cell_type": "markdown",
      "id": "91ee6399",
      "metadata": {
        "id": "91ee6399"
      },
      "source": [
        "### Question 6: Instead of writing the message, propose a new function that read a file containing the plaintext (message) and save it in the message variable."
      ]
    },
    {
      "cell_type": "code",
      "source": [
        "import unicodedata, string, re, random, math\n",
        "def convert(s):\n",
        "    \"Convert the string 's', supposed to be encoded in UTF-8, into a very simple one.\"\n",
        "    tmp1 = unicodedata.normalize('NFKD', s) # decode the input string\n",
        "    tmp2 = tmp1.encode('ASCII', 'ignore').decode('utf8') # convert it to ASCII (remove accents) and to UTF8\n",
        "    tmp3 = re.sub('[\\W\\d_]+', ' ', tmp2) # convert non-[a-zA-Z] chars into 1 space\n",
        "    tmp4 = re.sub('^\\s*|\\s*$', '', tmp3) # remove leading/trailing spaces\n",
        "    tmp5 = tmp4.upper() # convert to upcase\n",
        "    return tmp5\n",
        "def read_file(filename):\n",
        "    \"Read the text in 'filename' and convert it into a very simple, but possibly large, string.\"\n",
        "    res = []\n",
        "    with open(filename, 'r', encoding='utf8') as f:\n",
        "        for l in f:\n",
        "            line = convert(l)\n",
        "            if line: # do not append empty lines\n",
        "                res.append(line)\n",
        "    return ' '.join(res)\n",
        "def read_file_encrypt(source_file, dest_file, pub_key_path):\n",
        "  filename = dest_file # the file to write to/read from\n",
        "  message = read_file(source_file)\n",
        "  pubKeyFilename = pub_key_path\n",
        "  encryptedText = encryptAndWriteToFile(filename, pubKeyFilename, message)\n",
        "filename = \"test_encrypt.txt\"\n",
        "#read_file_encrypt(\"testt_file.txt\", filename, \"test_key_pubkey.txt\")"
      ],
      "metadata": {
        "id": "zwsJ5m2s3onf"
      },
      "id": "zwsJ5m2s3onf",
      "execution_count": null,
      "outputs": []
    },
    {
      "cell_type": "markdown",
      "id": "d9278d9c",
      "metadata": {
        "id": "d9278d9c"
      },
      "source": [
        "## 2.4. RSA decryption"
      ]
    },
    {
      "cell_type": "code",
      "execution_count": null,
      "id": "7833f50b",
      "metadata": {
        "id": "7833f50b"
      },
      "outputs": [],
      "source": [
        "# IMPORTANT: The block size MUST be less than or equal to the key size!\n",
        "# (Note: The block size is in bytes, the key size is in bits. There\n",
        "# are 8 bits in 1 byte.)\n",
        "\n",
        "DEFAULT_BLOCK_SIZE = 128 # 128 bytes\n",
        "BYTE_SIZE = 256 # One byte has 256 different values.\n",
        "\n",
        "def getTextFromBlocks(blockInts, messageLength, blockSize=DEFAULT_BLOCK_SIZE):\n",
        "    # Converts a list of block integers to the original message string.\n",
        "    # The original message length is needed to properly convert the last\n",
        "    # block integer.\n",
        "    message = []\n",
        "    for blockInt in blockInts:\n",
        "        blockMessage = []\n",
        "        for i in range(blockSize - 1, -1, -1):\n",
        "            if len(message) + i < messageLength:\n",
        "                # Decode the message string for the 128 (or whatever\n",
        "                # blockSize is set to) characters from this block integer.\n",
        "                asciiNumber = blockInt // (BYTE_SIZE ** i)\n",
        "                #print(chr(asciiNumber))\n",
        "                #blockInt = blockInt % (BYTE_SIZE ** i)\n",
        "                blockInt = blockInt % (pow(BYTE_SIZE, i))\n",
        "                blockMessage.insert(0, chr(asciiNumber))\n",
        "        message.extend(blockMessage)\n",
        "    return ''.join(message)\n",
        "\n",
        "def decryptMessage(encryptedBlocks, messageLength, key, blockSize=DEFAULT_BLOCK_SIZE):\n",
        "    # Decrypts a list of encrypted block ints into the original message\n",
        "    # string. The original message length is required to properly decrypt\n",
        "    # the last block. Be sure to pass the PRIVATE key to decrypt.\n",
        "    decryptedBlocks = []\n",
        "    n, d = key\n",
        "    for block in encryptedBlocks:\n",
        "        # plaintext = ciphertext ^ d mod n\n",
        "\n",
        "        # complete the code to perform the modular exponentiation (decryption)\n",
        "        # ...\n",
        "        plaintext = pow(block, d, n)\n",
        "        decryptedBlocks.append(plaintext)\n",
        "    return getTextFromBlocks(decryptedBlocks, messageLength, blockSize)\n",
        "\n",
        "def readFromFileAndDecrypt(messageFilename, keyFilename):\n",
        "    # Using a key from a key file, read an encrypted message from a file\n",
        "    # and then decrypt it. Returns the decrypted message string.\n",
        "    keySize, n, d = readKeyFile(keyFilename)\n",
        "\n",
        "\n",
        "    # Read in the message length and the encrypted message from the file.\n",
        "    fo = open(messageFilename)\n",
        "    content = fo.read()\n",
        "    messageLength, blockSize, encryptedMessage = content.split('_')\n",
        "    messageLength = int(messageLength)\n",
        "    blockSize = int(blockSize)\n",
        "\n",
        "    # Check that key size is greater than block size.\n",
        "    if keySize < blockSize * 8: # * 8 to convert bytes to bits\n",
        "        sys.exit('ERROR: Block size is %s bits and key size is %s bits. The RSA cipher requires the block size to be equal to or greater than the key size. Did you specify the correct key file and encrypted file?' % (blockSize * 8, keySize))\n",
        "\n",
        "    # Convert the encrypted message into large int values.\n",
        "    encryptedBlocks = []\n",
        "    for block in encryptedMessage.split(','):\n",
        "        encryptedBlocks.append(int(block))\n",
        "\n",
        "    # Decrypt the large int values.\n",
        "    return decryptMessage(encryptedBlocks, messageLength, (n, d), blockSize)\n"
      ]
    },
    {
      "cell_type": "markdown",
      "id": "16af6834",
      "metadata": {
        "id": "16af6834"
      },
      "source": [
        "### Question 7: Complete the code and explain the decryption process."
      ]
    },
    {
      "cell_type": "code",
      "execution_count": null,
      "id": "78d47cd3",
      "metadata": {
        "id": "78d47cd3",
        "colab": {
          "base_uri": "https://localhost:8080/",
          "height": 211
        },
        "outputId": "4b0c04ad-6a07-42d6-9027-b315c23592b8"
      },
      "outputs": [
        {
          "output_type": "stream",
          "name": "stdout",
          "text": [
            "Reading from encrypted_file.txt and decrypting...\n",
            "Decrypted text:\n"
          ]
        },
        {
          "output_type": "error",
          "ename": "NameError",
          "evalue": "name 'decryptedText' is not defined",
          "traceback": [
            "\u001b[0;31m---------------------------------------------------------------------------\u001b[0m",
            "\u001b[0;31mNameError\u001b[0m                                 Traceback (most recent call last)",
            "\u001b[0;32m<ipython-input-39-9af8941a4ce1>\u001b[0m in \u001b[0;36m<cell line: 8>\u001b[0;34m()\u001b[0m\n\u001b[1;32m      6\u001b[0m \u001b[0;34m\u001b[0m\u001b[0m\n\u001b[1;32m      7\u001b[0m \u001b[0mprint\u001b[0m\u001b[0;34m(\u001b[0m\u001b[0;34m'Decrypted text:'\u001b[0m\u001b[0;34m)\u001b[0m\u001b[0;34m\u001b[0m\u001b[0;34m\u001b[0m\u001b[0m\n\u001b[0;32m----> 8\u001b[0;31m \u001b[0mprint\u001b[0m\u001b[0;34m(\u001b[0m\u001b[0mdecryptedText\u001b[0m\u001b[0;34m)\u001b[0m\u001b[0;34m\u001b[0m\u001b[0;34m\u001b[0m\u001b[0m\n\u001b[0m",
            "\u001b[0;31mNameError\u001b[0m: name 'decryptedText' is not defined"
          ]
        }
      ],
      "source": [
        "filename = 'encrypted_file.txt'\n",
        "privKeyFilename = 'test_key_privkey.txt'\n",
        "print('Reading from %s and decrypting...' % (filename))\n",
        "\n",
        "decryptedText = readFromFileAndDecrypt(filename, privKeyFilename)\n",
        "\n",
        "print('Decrypted text:')\n",
        "print(decryptedText)"
      ]
    },
    {
      "cell_type": "code",
      "source": [
        "keyFilename='testt_key'\n",
        "pubKeyFilename = keyFilename+'_pubkey.txt'\n",
        "makeKeyFiles(keyFilename, 1024)"
      ],
      "metadata": {
        "colab": {
          "base_uri": "https://localhost:8080/",
          "height": 141
        },
        "id": "6hj_HI5djJqx",
        "outputId": "3958823b-7500-42dc-f447-f1bad3002ebe"
      },
      "id": "6hj_HI5djJqx",
      "execution_count": null,
      "outputs": [
        {
          "output_type": "error",
          "ename": "SystemExit",
          "evalue": "WARNING: The file testt_key_pubkey.txt or testt_key_privkey.txt already exists! Use a different name or delete these files and re-run this program.",
          "traceback": [
            "An exception has occurred, use %tb to see the full traceback.\n",
            "\u001b[0;31mSystemExit\u001b[0m\u001b[0;31m:\u001b[0m WARNING: The file testt_key_pubkey.txt or testt_key_privkey.txt already exists! Use a different name or delete these files and re-run this program.\n"
          ]
        },
        {
          "output_type": "stream",
          "name": "stderr",
          "text": [
            "/usr/local/lib/python3.10/dist-packages/IPython/core/interactiveshell.py:3561: UserWarning: To exit: use 'exit', 'quit', or Ctrl-D.\n",
            "  warn(\"To exit: use 'exit', 'quit', or Ctrl-D.\", stacklevel=1)\n"
          ]
        }
      ]
    },
    {
      "cell_type": "markdown",
      "id": "88a0ac74",
      "metadata": {
        "id": "88a0ac74"
      },
      "source": [
        "### Question 8: Instead of printing the message, propose a new function that writes a file containing the plaintext."
      ]
    },
    {
      "cell_type": "markdown",
      "id": "11986716",
      "metadata": {
        "id": "11986716"
      },
      "source": [
        "# Part 3: Use of pycryptodome librairy"
      ]
    },
    {
      "cell_type": "markdown",
      "id": "50870501",
      "metadata": {
        "id": "50870501"
      },
      "source": [
        "## 3.1. RSA"
      ]
    },
    {
      "cell_type": "markdown",
      "id": "43a1eccb",
      "metadata": {
        "id": "43a1eccb"
      },
      "source": [
        "Explore the pycryptodome librairy https://pycryptodome.readthedocs.io/en/latest/index.html. Test possible functions to generate keys and to use RSA."
      ]
    },
    {
      "cell_type": "code",
      "execution_count": null,
      "id": "24fe50a1",
      "metadata": {
        "id": "24fe50a1",
        "colab": {
          "base_uri": "https://localhost:8080/"
        },
        "outputId": "343f4718-6209-4b85-85ae-47cbcc2d3f17"
      },
      "outputs": [
        {
          "output_type": "stream",
          "name": "stdout",
          "text": [
            "Requirement already satisfied: pycryptodome in /usr/local/lib/python3.10/dist-packages (3.20.0)\n",
            "b\"\\x15zS\\xfeP\\x8b\\n\\xa7\\x10??\\xcf\\x8f\\x9a\\x0c[\\xc3&\\xec\\xd7\\xb2\\xeb\\x8e\\xa5\\x81\\xceT\\x97q\\x91\\x18?:a\\xa3\\xf15]\\x0e\\xc9h'\\x9d\\xc0\\xd2\\xd0\\x89\\xba\\xb6\\x11\\x12\\x02\\xff\\xd6_\\xbf.3\\r\\xa3\\xb9R'\\xe217~7\\xf6\\xc4\\xc7\\x19l\\xe8\\x83E\\x80\\x85D7\\xd7%\\x10\\xc4\\xaf\\xafs\\xcc@\\xc4l\\xe9\\xbb@\\xa3\\xd0=\\xa3\\x9d\\x9d'\\xc2\\x9a^\\xff\\\\M__:\\x05\\xa4\\x1bTWE\\x86T\\xda\\x0e\\x9e]\\x0bh\\xfdZ\\x1e\\x03R\\xd9\\xcb\\xf0\\x84R\\xa9\\xebM\\xad\\xe0\\xb0\\xcf]B\\x8f\\x87x\\x1f\\xab1\\xeaA\\x94\\x95\\xe7\\xa1\\x8ao\\x99\\x1ds\\xd4\\xc4\\xcd\\x1d\\x87\\x814\\xa8]\\xbceX\\x8f\\xe7a\\xd04\\xd9\\xd8\\xb6\\x13v\\xc0\\nE\\x9dh\\xa9\\x95\\x8d\\xe4B\\x0e\\xd7\\xb0'IuX\\xd3i\\x98\\xa7\\xec\\xe9\\xc4\\x99\\xddL\\xc47Wj\\xdeod\\x10\\xe8V\\xcc\\x0e0\\x98 ]\\xb3\\xea\\x90\\xb4\\xee\\x90z\\xcf\\xd69\\xb5e\\xd0\\x12*\\xa1_\\xa3\\xe2!\\x90\\x8ftL6m\\x02\\x94Y\\x88\\xbb\"\n",
            "b'You can attack now!'\n"
          ]
        }
      ],
      "source": [
        "%pip install pycryptodome\n",
        "from Crypto.Cipher import PKCS1_OAEP\n",
        "from Crypto.PublicKey import RSA\n",
        "keypair = RSA.generate(2048)\n",
        "public_key = keypair.publickey()\n",
        "\n",
        "message = b'You can attack now!'\n",
        "\n",
        "cipher = PKCS1_OAEP.new(public_key)\n",
        "\n",
        "ciphertext = cipher.encrypt(message)\n",
        "print(ciphertext)\n",
        "cipher = PKCS1_OAEP.new(keypair)\n",
        "\n",
        "message = cipher.decrypt(ciphertext)\n",
        "print(message)"
      ]
    },
    {
      "cell_type": "markdown",
      "id": "73167c2a",
      "metadata": {
        "id": "73167c2a"
      },
      "source": [
        "## 3.2. ECC"
      ]
    },
    {
      "cell_type": "markdown",
      "id": "c0a6d356",
      "metadata": {
        "id": "c0a6d356"
      },
      "source": [
        "### Question 9: Run the cells below and explain how the Digital Signature Algorithm works. Modify the message or the signature and check if the algorithm detects it."
      ]
    },
    {
      "cell_type": "code",
      "execution_count": null,
      "id": "9e39ac64",
      "metadata": {
        "id": "9e39ac64"
      },
      "outputs": [],
      "source": [
        "from Crypto.Hash import SHA256\n",
        "from Crypto.PublicKey import ECC\n",
        "from Crypto.Signature import DSS\n",
        "\n",
        "key = ECC.generate(curve='P-256')\n",
        "\n",
        "f = open('key.pem','wt')\n",
        "f.write(key.export_key(format='PEM'))\n",
        "f.close()\n",
        "\n",
        "f = open('key.pem','rt')\n",
        "pubkey = ECC.import_key(f.read())"
      ]
    },
    {
      "cell_type": "code",
      "execution_count": null,
      "id": "84c08db5",
      "metadata": {
        "id": "84c08db5",
        "colab": {
          "base_uri": "https://localhost:8080/"
        },
        "outputId": "63149386-a178-47d2-9cb9-88aaaf0f79a8"
      },
      "outputs": [
        {
          "output_type": "stream",
          "name": "stdout",
          "text": [
            "EccKey(curve='NIST P-256', point_x=86745050085852438109123933877965600484811125816749613374989492034166390628790, point_y=98557479687999984060834398560939965798377971509922269117559478357419854100460, d=24001350477956028381032824165271577897559602933468267857897472838828509307449)\n"
          ]
        }
      ],
      "source": [
        "print(key)"
      ]
    },
    {
      "cell_type": "code",
      "execution_count": null,
      "id": "20da678b",
      "metadata": {
        "id": "20da678b",
        "colab": {
          "base_uri": "https://localhost:8080/"
        },
        "outputId": "575cdefb-4d3b-496f-edb4-34c65c797e4c"
      },
      "outputs": [
        {
          "output_type": "stream",
          "name": "stdout",
          "text": [
            "4076b23570ab85c5772b2070b842c4137a815920b8505724efde7ae94c278d13\n"
          ]
        }
      ],
      "source": [
        "my_message = b'I give my permission to order #4355'\n",
        "privkey = ECC.import_key(open('key.pem').read())\n",
        "h = SHA256.new(my_message)\n",
        "print(h.hexdigest())\n",
        "signer = DSS.new(privkey, 'fips-186-3')\n",
        "sender_signature = signer.sign(h)"
      ]
    },
    {
      "cell_type": "code",
      "execution_count": null,
      "id": "786cf247",
      "metadata": {
        "id": "786cf247",
        "colab": {
          "base_uri": "https://localhost:8080/"
        },
        "outputId": "6d44a8f8-d8a7-452c-8a4c-9f82f5e5a1cc"
      },
      "outputs": [
        {
          "output_type": "stream",
          "name": "stdout",
          "text": [
            "0x26fe74b01df983eac7f1dac2bce761a124df00b00c207a6c1bedcca8347d84cf6ba189f6c92d04ecbf734c99af5225e06b7cd272965d942f0b5a162e079ef68200\n"
          ]
        }
      ],
      "source": [
        "#print(str(sender_signature))\n",
        "#print(type(sender_signature))\n",
        "#for i in range (0,len(sender_signature)):\n",
        "#    print(hex(sender_signature[i]))\n",
        "my_signature = 0\n",
        "i = 64\n",
        "for byte in sender_signature:\n",
        "    Number = byte * pow(2,i*8)\n",
        "    my_signature = my_signature + Number\n",
        "    i = i - 1\n",
        "print(hex(my_signature))"
      ]
    },
    {
      "cell_type": "code",
      "execution_count": null,
      "id": "0554c7e2",
      "metadata": {
        "id": "0554c7e2",
        "colab": {
          "base_uri": "https://localhost:8080/"
        },
        "outputId": "31caa1cb-f1e6-49e6-e1f7-43fa2818f4b6"
      },
      "outputs": [
        {
          "output_type": "stream",
          "name": "stdout",
          "text": [
            "The message is authentic.\n"
          ]
        }
      ],
      "source": [
        "received_signature = sender_signature\n",
        "received_message = b'I give my permission to order #4355'\n",
        "\n",
        "pubkey = ECC.import_key(open('key.pem').read())\n",
        "h_received = SHA256.new(received_message)\n",
        "\n",
        "verifier = DSS.new(pubkey, 'fips-186-3')\n",
        "try:\n",
        "    verifier.verify(h_received, received_signature)\n",
        "    print(\"The message is authentic.\")\n",
        "except ValueError:\n",
        "    print(\"The message is NOT authentic.\")"
      ]
    }
  ],
  "metadata": {
    "kernelspec": {
      "display_name": "Python 3 (ipykernel)",
      "language": "python",
      "name": "python3"
    },
    "language_info": {
      "codemirror_mode": {
        "name": "ipython",
        "version": 3
      },
      "file_extension": ".py",
      "mimetype": "text/x-python",
      "name": "python",
      "nbconvert_exporter": "python",
      "pygments_lexer": "ipython3",
      "version": "3.11.5"
    },
    "colab": {
      "provenance": [],
      "collapsed_sections": [
        "85599759",
        "6c508731"
      ]
    }
  },
  "nbformat": 4,
  "nbformat_minor": 5
}